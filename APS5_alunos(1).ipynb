{
 "cells": [
  {
   "cell_type": "markdown",
   "metadata": {},
   "source": [
    "# APS 5 - Questões com auxílio do Pandas"
   ]
  },
  {
   "cell_type": "markdown",
   "metadata": {},
   "source": [
    "** Nome: ** <font color=blue> Tainara Soares Mendes </font> \n"
   ]
  },
  {
   "cell_type": "markdown",
   "metadata": {},
   "source": [
    "APS **INDIVIDUAL**\n",
    "\n",
    "Data de Entrega: 26/Set até às 23h59 via GitHub.\n",
    "\n",
    "Vamos trabalhar com dados do USGS (United States Geological Survey) para tentar determinar se os abalos detectados no hemisfério Norte têm grande probabilidade de serem testes nucleares."
   ]
  },
  {
   "cell_type": "code",
   "execution_count": 115,
   "metadata": {
    "collapsed": true
   },
   "outputs": [],
   "source": [
    "%matplotlib inline\n",
    "import pandas as pd\n",
    "import numpy as np\n",
    "import matplotlib.pyplot as plt\n",
    "from scipy.stats import expon"
   ]
  },
  {
   "cell_type": "code",
   "execution_count": 145,
   "metadata": {},
   "outputs": [
    {
     "name": "stdout",
     "output_type": "stream",
     "text": [
      "['Date', 'Time', 'Latitude', 'Longitude', 'Type', 'Depth', 'Depth Error', 'Depth Seismic Stations', 'Magnitude', 'Magnitude Type', 'Magnitude Error', 'Magnitude Seismic Stations', 'Azimuthal Gap', 'Horizontal Distance', 'Horizontal Error', 'Root Mean Square', 'ID', 'Source', 'Location Source', 'Magnitude Source', 'Status']\n"
     ]
    }
   ],
   "source": [
    "#Abrir o arquivo\n",
    "df = pd.read_csv('earthquake.csv')\n",
    "#listar colunas\n",
    "print(list(df))"
   ]
  },
  {
   "cell_type": "markdown",
   "metadata": {},
   "source": [
    "## Liste as primeiras linhas do DataFrame"
   ]
  },
  {
   "cell_type": "code",
   "execution_count": 146,
   "metadata": {},
   "outputs": [
    {
     "data": {
      "text/html": [
       "<div>\n",
       "<style>\n",
       "    .dataframe thead tr:only-child th {\n",
       "        text-align: right;\n",
       "    }\n",
       "\n",
       "    .dataframe thead th {\n",
       "        text-align: left;\n",
       "    }\n",
       "\n",
       "    .dataframe tbody tr th {\n",
       "        vertical-align: top;\n",
       "    }\n",
       "</style>\n",
       "<table border=\"1\" class=\"dataframe\">\n",
       "  <thead>\n",
       "    <tr style=\"text-align: right;\">\n",
       "      <th></th>\n",
       "      <th>Date</th>\n",
       "      <th>Time</th>\n",
       "      <th>Latitude</th>\n",
       "      <th>Longitude</th>\n",
       "      <th>Type</th>\n",
       "      <th>Depth</th>\n",
       "      <th>Depth Error</th>\n",
       "      <th>Depth Seismic Stations</th>\n",
       "      <th>Magnitude</th>\n",
       "      <th>Magnitude Type</th>\n",
       "      <th>...</th>\n",
       "      <th>Magnitude Seismic Stations</th>\n",
       "      <th>Azimuthal Gap</th>\n",
       "      <th>Horizontal Distance</th>\n",
       "      <th>Horizontal Error</th>\n",
       "      <th>Root Mean Square</th>\n",
       "      <th>ID</th>\n",
       "      <th>Source</th>\n",
       "      <th>Location Source</th>\n",
       "      <th>Magnitude Source</th>\n",
       "      <th>Status</th>\n",
       "    </tr>\n",
       "  </thead>\n",
       "  <tbody>\n",
       "    <tr>\n",
       "      <th>0</th>\n",
       "      <td>01/02/1965</td>\n",
       "      <td>13:44:18</td>\n",
       "      <td>19.246</td>\n",
       "      <td>145.616</td>\n",
       "      <td>Earthquake</td>\n",
       "      <td>131.6</td>\n",
       "      <td>NaN</td>\n",
       "      <td>NaN</td>\n",
       "      <td>6.0</td>\n",
       "      <td>MW</td>\n",
       "      <td>...</td>\n",
       "      <td>NaN</td>\n",
       "      <td>NaN</td>\n",
       "      <td>NaN</td>\n",
       "      <td>NaN</td>\n",
       "      <td>NaN</td>\n",
       "      <td>ISCGEM860706</td>\n",
       "      <td>ISCGEM</td>\n",
       "      <td>ISCGEM</td>\n",
       "      <td>ISCGEM</td>\n",
       "      <td>Automatic</td>\n",
       "    </tr>\n",
       "    <tr>\n",
       "      <th>1</th>\n",
       "      <td>01/04/1965</td>\n",
       "      <td>11:29:49</td>\n",
       "      <td>1.863</td>\n",
       "      <td>127.352</td>\n",
       "      <td>Earthquake</td>\n",
       "      <td>80.0</td>\n",
       "      <td>NaN</td>\n",
       "      <td>NaN</td>\n",
       "      <td>5.8</td>\n",
       "      <td>MW</td>\n",
       "      <td>...</td>\n",
       "      <td>NaN</td>\n",
       "      <td>NaN</td>\n",
       "      <td>NaN</td>\n",
       "      <td>NaN</td>\n",
       "      <td>NaN</td>\n",
       "      <td>ISCGEM860737</td>\n",
       "      <td>ISCGEM</td>\n",
       "      <td>ISCGEM</td>\n",
       "      <td>ISCGEM</td>\n",
       "      <td>Automatic</td>\n",
       "    </tr>\n",
       "    <tr>\n",
       "      <th>2</th>\n",
       "      <td>01/05/1965</td>\n",
       "      <td>18:05:58</td>\n",
       "      <td>-20.579</td>\n",
       "      <td>-173.972</td>\n",
       "      <td>Earthquake</td>\n",
       "      <td>20.0</td>\n",
       "      <td>NaN</td>\n",
       "      <td>NaN</td>\n",
       "      <td>6.2</td>\n",
       "      <td>MW</td>\n",
       "      <td>...</td>\n",
       "      <td>NaN</td>\n",
       "      <td>NaN</td>\n",
       "      <td>NaN</td>\n",
       "      <td>NaN</td>\n",
       "      <td>NaN</td>\n",
       "      <td>ISCGEM860762</td>\n",
       "      <td>ISCGEM</td>\n",
       "      <td>ISCGEM</td>\n",
       "      <td>ISCGEM</td>\n",
       "      <td>Automatic</td>\n",
       "    </tr>\n",
       "    <tr>\n",
       "      <th>3</th>\n",
       "      <td>01/08/1965</td>\n",
       "      <td>18:49:43</td>\n",
       "      <td>-59.076</td>\n",
       "      <td>-23.557</td>\n",
       "      <td>Earthquake</td>\n",
       "      <td>15.0</td>\n",
       "      <td>NaN</td>\n",
       "      <td>NaN</td>\n",
       "      <td>5.8</td>\n",
       "      <td>MW</td>\n",
       "      <td>...</td>\n",
       "      <td>NaN</td>\n",
       "      <td>NaN</td>\n",
       "      <td>NaN</td>\n",
       "      <td>NaN</td>\n",
       "      <td>NaN</td>\n",
       "      <td>ISCGEM860856</td>\n",
       "      <td>ISCGEM</td>\n",
       "      <td>ISCGEM</td>\n",
       "      <td>ISCGEM</td>\n",
       "      <td>Automatic</td>\n",
       "    </tr>\n",
       "    <tr>\n",
       "      <th>4</th>\n",
       "      <td>01/09/1965</td>\n",
       "      <td>13:32:50</td>\n",
       "      <td>11.938</td>\n",
       "      <td>126.427</td>\n",
       "      <td>Earthquake</td>\n",
       "      <td>15.0</td>\n",
       "      <td>NaN</td>\n",
       "      <td>NaN</td>\n",
       "      <td>5.8</td>\n",
       "      <td>MW</td>\n",
       "      <td>...</td>\n",
       "      <td>NaN</td>\n",
       "      <td>NaN</td>\n",
       "      <td>NaN</td>\n",
       "      <td>NaN</td>\n",
       "      <td>NaN</td>\n",
       "      <td>ISCGEM860890</td>\n",
       "      <td>ISCGEM</td>\n",
       "      <td>ISCGEM</td>\n",
       "      <td>ISCGEM</td>\n",
       "      <td>Automatic</td>\n",
       "    </tr>\n",
       "  </tbody>\n",
       "</table>\n",
       "<p>5 rows × 21 columns</p>\n",
       "</div>"
      ],
      "text/plain": [
       "         Date      Time  Latitude  Longitude        Type  Depth  Depth Error  \\\n",
       "0  01/02/1965  13:44:18    19.246    145.616  Earthquake  131.6          NaN   \n",
       "1  01/04/1965  11:29:49     1.863    127.352  Earthquake   80.0          NaN   \n",
       "2  01/05/1965  18:05:58   -20.579   -173.972  Earthquake   20.0          NaN   \n",
       "3  01/08/1965  18:49:43   -59.076    -23.557  Earthquake   15.0          NaN   \n",
       "4  01/09/1965  13:32:50    11.938    126.427  Earthquake   15.0          NaN   \n",
       "\n",
       "   Depth Seismic Stations  Magnitude Magnitude Type    ...      \\\n",
       "0                     NaN        6.0             MW    ...       \n",
       "1                     NaN        5.8             MW    ...       \n",
       "2                     NaN        6.2             MW    ...       \n",
       "3                     NaN        5.8             MW    ...       \n",
       "4                     NaN        5.8             MW    ...       \n",
       "\n",
       "   Magnitude Seismic Stations  Azimuthal Gap  Horizontal Distance  \\\n",
       "0                         NaN            NaN                  NaN   \n",
       "1                         NaN            NaN                  NaN   \n",
       "2                         NaN            NaN                  NaN   \n",
       "3                         NaN            NaN                  NaN   \n",
       "4                         NaN            NaN                  NaN   \n",
       "\n",
       "   Horizontal Error  Root Mean Square            ID  Source Location Source  \\\n",
       "0               NaN               NaN  ISCGEM860706  ISCGEM          ISCGEM   \n",
       "1               NaN               NaN  ISCGEM860737  ISCGEM          ISCGEM   \n",
       "2               NaN               NaN  ISCGEM860762  ISCGEM          ISCGEM   \n",
       "3               NaN               NaN  ISCGEM860856  ISCGEM          ISCGEM   \n",
       "4               NaN               NaN  ISCGEM860890  ISCGEM          ISCGEM   \n",
       "\n",
       "  Magnitude Source     Status  \n",
       "0           ISCGEM  Automatic  \n",
       "1           ISCGEM  Automatic  \n",
       "2           ISCGEM  Automatic  \n",
       "3           ISCGEM  Automatic  \n",
       "4           ISCGEM  Automatic  \n",
       "\n",
       "[5 rows x 21 columns]"
      ]
     },
     "execution_count": 146,
     "metadata": {},
     "output_type": "execute_result"
    }
   ],
   "source": [
    "df.head()"
   ]
  },
  {
   "cell_type": "markdown",
   "metadata": {},
   "source": [
    "## Q1 - Manipulando o DataFrame\n",
    "\n",
    "Crie uma coluna chamada `Hemisfério` baseada na Latitude\n",
    "\n",
    "A regra de formação é a seguinte:\n",
    "\n",
    "Valor | Critério\n",
    "---|---\n",
    "Norte | Latitude positiva\n",
    "Sul | Latitude negativa"
   ]
  },
  {
   "cell_type": "code",
   "execution_count": 147,
   "metadata": {
    "collapsed": true
   },
   "outputs": [],
   "source": [
    "import numpy as np\n",
    "\n",
    "df['Hemisfério'] = np.where(df['Latitude']>0, 'Norte', 'Sul')"
   ]
  },
  {
   "cell_type": "markdown",
   "metadata": {},
   "source": [
    "## Q2 - Fit e Histograma\n",
    "\n",
    "Faça o Histograma da Magnitude. Interprete."
   ]
  },
  {
   "cell_type": "code",
   "execution_count": 148,
   "metadata": {},
   "outputs": [
    {
     "data": {
      "text/plain": [
       "<matplotlib.text.Text at 0x18067bd8be0>"
      ]
     },
     "execution_count": 148,
     "metadata": {},
     "output_type": "execute_result"
    },
    {
     "data": {
      "image/png": "[encoded data removed]",
      "text/plain": [
       "<matplotlib.figure.Figure at 0x18067b6bb70>"
      ]
     },
     "metadata": {},
     "output_type": "display_data"
    }
   ],
   "source": [
    "mag_hist = df.Magnitude.plot.hist(title='Histograma - Magnitude', figsize=(6,6))\n",
    "plt.ylabel('Frequência Absoluta')\n",
    "plt.xlabel('Magnitude dos Abalos')"
   ]
  },
  {
   "cell_type": "markdown",
   "metadata": {},
   "source": [
    "É possível extrair, a partir do histograma, que os abalos de menor magnitude (entre 5 e 6 graus) ocorrem com maior frequência que os de maior magnitude (acima de 6 graus)."
   ]
  },
  {
   "cell_type": "markdown",
   "metadata": {},
   "source": [
    "Faça o fit de uma distribuição exponencial sobre os dados da Magnitude, achando os valores de **loc** e **scale**. Interprete loc e scale no caso da exponencial.\n",
    "Documentação: https://docs.scipy.org/doc/scipy/reference/generated/scipy.stats.expon.html"
   ]
  },
  {
   "cell_type": "code",
   "execution_count": 156,
   "metadata": {},
   "outputs": [
    {
     "data": {
      "text/plain": [
       "(5.4999999996710809, 0.38254864885090978)"
      ]
     },
     "execution_count": 156,
     "metadata": {},
     "output_type": "execute_result"
    }
   ],
   "source": [
    "loc, scale = expon.fit(df.Magnitude)\n",
    "\n",
    "loc,scale"
   ]
  },
  {
   "cell_type": "markdown",
   "metadata": {},
   "source": [
    "O 'loc' configura onde o gráfico inicia, em relação ao eixo x. Quanto ao 'scale', não sei qual é a sua função."
   ]
  },
  {
   "cell_type": "markdown",
   "metadata": {},
   "source": [
    "Refaça o Histograma plotando a fdp (função densidade de probabilidade) da exponencial com os parâmetros achados no fit em cima. Cuidado com o domínio utilizado. Interprete."
   ]
  },
  {
   "cell_type": "code",
   "execution_count": 150,
   "metadata": {},
   "outputs": [
    {
     "data": {
      "text/plain": [
       "[<matplotlib.lines.Line2D at 0x18068357d68>]"
      ]
     },
     "execution_count": 150,
     "metadata": {},
     "output_type": "execute_result"
    },
    {
     "data": {
      "image/png": "[encoded data removed]",
      "text/plain": [
       "<matplotlib.figure.Figure at 0x18068357a90>"
      ]
     },
     "metadata": {},
     "output_type": "display_data"
    }
   ],
   "source": [
    "x = np.arange(5.5, 9, 0.1)\n",
    "\n",
    "plt.hist(df.Magnitude, normed=1, histtype='stepfilled', alpha=0.5)\n",
    "plt.plot(x, expon.pdf(x, loc, scale), alpha=0.9)"
   ]
  },
  {
   "cell_type": "markdown",
   "metadata": {},
   "source": [
    "## Q3 - Tabela cruzada\n",
    "\n",
    "Faça uma tabela de cruzamento das variáveis `Hemisfério` e `Type`\n",
    "\n",
    "Sua tabela deve ser <font color=red> normalizada</font>"
   ]
  },
  {
   "cell_type": "code",
   "execution_count": 152,
   "metadata": {},
   "outputs": [
    {
     "data": {
      "text/html": [
       "<div>\n",
       "<style>\n",
       "    .dataframe thead tr:only-child th {\n",
       "        text-align: right;\n",
       "    }\n",
       "\n",
       "    .dataframe thead th {\n",
       "        text-align: left;\n",
       "    }\n",
       "\n",
       "    .dataframe tbody tr th {\n",
       "        vertical-align: top;\n",
       "    }\n",
       "</style>\n",
       "<table border=\"1\" class=\"dataframe\">\n",
       "  <thead>\n",
       "    <tr style=\"text-align: right;\">\n",
       "      <th>Hemisfério</th>\n",
       "      <th>Earthquake</th>\n",
       "      <th>Explosion</th>\n",
       "      <th>Nuclear Explosion</th>\n",
       "      <th>Rock Burst</th>\n",
       "      <th>All</th>\n",
       "    </tr>\n",
       "    <tr>\n",
       "      <th>Tipo</th>\n",
       "      <th></th>\n",
       "      <th></th>\n",
       "      <th></th>\n",
       "      <th></th>\n",
       "      <th></th>\n",
       "    </tr>\n",
       "  </thead>\n",
       "  <tbody>\n",
       "    <tr>\n",
       "      <th>Norte</th>\n",
       "      <td>0.447121</td>\n",
       "      <td>0.000085</td>\n",
       "      <td>0.006279</td>\n",
       "      <td>0.000000</td>\n",
       "      <td>0.453485</td>\n",
       "    </tr>\n",
       "    <tr>\n",
       "      <th>Sul</th>\n",
       "      <td>0.545191</td>\n",
       "      <td>0.000085</td>\n",
       "      <td>0.001196</td>\n",
       "      <td>0.000043</td>\n",
       "      <td>0.546515</td>\n",
       "    </tr>\n",
       "    <tr>\n",
       "      <th>All</th>\n",
       "      <td>0.992312</td>\n",
       "      <td>0.000171</td>\n",
       "      <td>0.007475</td>\n",
       "      <td>0.000043</td>\n",
       "      <td>1.000000</td>\n",
       "    </tr>\n",
       "  </tbody>\n",
       "</table>\n",
       "</div>"
      ],
      "text/plain": [
       "Hemisfério  Earthquake  Explosion  Nuclear Explosion  Rock Burst       All\n",
       "Tipo                                                                      \n",
       "Norte         0.447121   0.000085           0.006279    0.000000  0.453485\n",
       "Sul           0.545191   0.000085           0.001196    0.000043  0.546515\n",
       "All           0.992312   0.000171           0.007475    0.000043  1.000000"
      ]
     },
     "execution_count": 152,
     "metadata": {},
     "output_type": "execute_result"
    }
   ],
   "source": [
    "ct1=pd.crosstab(df.Hemisfério,df.Type,margins=True,rownames=['Tipo'], colnames=['Hemisfério'],normalize='all')\n",
    "\n",
    "ct1"
   ]
  },
  {
   "cell_type": "markdown",
   "metadata": {},
   "source": [
    "### Q3.1 - Qual a probabilidade de ocorrer um terremoto no hemisfério norte?"
   ]
  },
  {
   "cell_type": "markdown",
   "metadata": {},
   "source": [
    "Adicione na célula abaixo o cálculo:"
   ]
  },
  {
   "cell_type": "code",
   "execution_count": 123,
   "metadata": {},
   "outputs": [
    {
     "name": "stdout",
     "output_type": "stream",
     "text": [
      "A probabilidade de ocorrer um terremoto no hemisfério norte é de 0.45058509823523246\n"
     ]
    }
   ],
   "source": [
    "prob_terremoto_norte = 0.447121/0.992312\n",
    "\n",
    "print('A probabilidade de ocorrer um terremoto no hemisfério norte é de {0}'.format(prob_terremoto_norte))"
   ]
  },
  {
   "cell_type": "markdown",
   "metadata": {},
   "source": [
    "Explique o seu raciocínio"
   ]
  },
  {
   "cell_type": "markdown",
   "metadata": {
    "collapsed": true
   },
   "source": [
    "Encarei a probabilidade requerida como uma probabilidade condicional. Dado que ocorreu um terremoto, qual é a chance de esta ocorrência ter se dado no Norte? Para tal, utilizando-me da Crosstab, extraí o dado relativo à probabilidade de ocorrência de um terremoto no Hemifério Norte - o qual é gerado em comparação a todas as demais possíveis causas de tremores de terra neste Hemifério - e dividi esse número pela probabilidade de ocorrência de um terremoto - em qualquer dos hemisférios (se a ocorrência de um terremoto é o ponto de partida para o cálculo da minha probabilidade, tenho de normalizar as minhas contas utilizando-me desta probabilidade em questão)."
   ]
  },
  {
   "cell_type": "markdown",
   "metadata": {},
   "source": [
    "### Q3.2 - Dado que aconteceu no Norte, qual a probabilidade de ele ter sido `Nuclear Explosion`? "
   ]
  },
  {
   "cell_type": "markdown",
   "metadata": {},
   "source": [
    "Calcule a resposta abaixo, ou explique como a encontrou"
   ]
  },
  {
   "cell_type": "markdown",
   "metadata": {},
   "source": [
    "Se for cálculo preencha a célula a seguir:"
   ]
  },
  {
   "cell_type": "code",
   "execution_count": 155,
   "metadata": {},
   "outputs": [
    {
     "data": {
      "text/html": [
       "<div>\n",
       "<style>\n",
       "    .dataframe thead tr:only-child th {\n",
       "        text-align: right;\n",
       "    }\n",
       "\n",
       "    .dataframe thead th {\n",
       "        text-align: left;\n",
       "    }\n",
       "\n",
       "    .dataframe tbody tr th {\n",
       "        vertical-align: top;\n",
       "    }\n",
       "</style>\n",
       "<table border=\"1\" class=\"dataframe\">\n",
       "  <thead>\n",
       "    <tr style=\"text-align: right;\">\n",
       "      <th>Hemisfério</th>\n",
       "      <th>Earthquake</th>\n",
       "      <th>Explosion</th>\n",
       "      <th>Nuclear Explosion</th>\n",
       "      <th>Rock Burst</th>\n",
       "      <th>All</th>\n",
       "    </tr>\n",
       "    <tr>\n",
       "      <th>Tipo</th>\n",
       "      <th></th>\n",
       "      <th></th>\n",
       "      <th></th>\n",
       "      <th></th>\n",
       "      <th></th>\n",
       "    </tr>\n",
       "  </thead>\n",
       "  <tbody>\n",
       "    <tr>\n",
       "      <th>Norte</th>\n",
       "      <td>0.450585</td>\n",
       "      <td>0.5</td>\n",
       "      <td>0.84</td>\n",
       "      <td>0.0</td>\n",
       "      <td>0.453485</td>\n",
       "    </tr>\n",
       "    <tr>\n",
       "      <th>Sul</th>\n",
       "      <td>0.549415</td>\n",
       "      <td>0.5</td>\n",
       "      <td>0.16</td>\n",
       "      <td>1.0</td>\n",
       "      <td>0.546515</td>\n",
       "    </tr>\n",
       "  </tbody>\n",
       "</table>\n",
       "</div>"
      ],
      "text/plain": [
       "Hemisfério  Earthquake  Explosion  Nuclear Explosion  Rock Burst       All\n",
       "Tipo                                                                      \n",
       "Norte         0.450585        0.5               0.84         0.0  0.453485\n",
       "Sul           0.549415        0.5               0.16         1.0  0.546515"
      ]
     },
     "execution_count": 155,
     "metadata": {},
     "output_type": "execute_result"
    }
   ],
   "source": [
    "ct2=pd.crosstab(df.Hemisfério,df.Type,margins=True,rownames=['Tipo'], colnames=['Hemisfério'],normalize='columns')\n",
    "ct2"
   ]
  },
  {
   "cell_type": "code",
   "execution_count": 124,
   "metadata": {},
   "outputs": [
    {
     "name": "stdout",
     "output_type": "stream",
     "text": [
      "A probabilidade de uma ocorrência no Norte ter sido do tipo \"Nuclear Explosion\" é de 0.013846102958201482\n"
     ]
    }
   ],
   "source": [
    "prob_nuclear_explosion = (0.84*0.007475)/0.453485\n",
    "print('A probabilidade de uma ocorrência no Norte ter sido do tipo \"Nuclear Explosion\" é de {0}'.format(prob_nuclear_explosion))"
   ]
  },
  {
   "cell_type": "markdown",
   "metadata": {},
   "source": [
    "Se conseguir obter a resposta sem calcular, insira a resposta abaixo:\n",
    "\n",
    "* A probabilidade de ter sido `Nuclear Explosion` é ..."
   ]
  },
  {
   "cell_type": "markdown",
   "metadata": {
    "collapsed": true
   },
   "source": [
    "Calculei a resposta no item anterior por meio do Teorema de Bayes e confirmei a resposta na primeira Crosstab, encontrando a probabilidade da ocorrência de uma explosão nuclear dentre as probabilidades das demais eventuais causas de ocorrência de tremores de terra no Hemisfério Norte."
   ]
  },
  {
   "cell_type": "markdown",
   "metadata": {},
   "source": [
    "## Q4 - Análise bivariada\n",
    "\n",
    "Faça o *plot* de dispersão (*scatter plot*) entre as variáveis `Magnitude Error`  e `Depth`"
   ]
  },
  {
   "cell_type": "code",
   "execution_count": 128,
   "metadata": {},
   "outputs": [
    {
     "data": {
      "text/plain": [
       "<matplotlib.collections.PathCollection at 0x180660a2390>"
      ]
     },
     "execution_count": 128,
     "metadata": {},
     "output_type": "execute_result"
    },
    {
     "data": {
      "image/png": "[encoded data removed]",
      "text/plain": [
       "<matplotlib.figure.Figure at 0x18064ab0160>"
      ]
     },
     "metadata": {},
     "output_type": "display_data"
    }
   ],
   "source": [
    "plt.scatter(df['Magnitude Error'],df['Depth'])"
   ]
  },
  {
   "cell_type": "markdown",
   "metadata": {},
   "source": [
    "Calcule a correlação entre as variáveis `Magnitude Error`  e `Depth`"
   ]
  },
  {
   "cell_type": "code",
   "execution_count": 129,
   "metadata": {},
   "outputs": [
    {
     "data": {
      "text/html": [
       "<div>\n",
       "<style>\n",
       "    .dataframe thead tr:only-child th {\n",
       "        text-align: right;\n",
       "    }\n",
       "\n",
       "    .dataframe thead th {\n",
       "        text-align: left;\n",
       "    }\n",
       "\n",
       "    .dataframe tbody tr th {\n",
       "        vertical-align: top;\n",
       "    }\n",
       "</style>\n",
       "<table border=\"1\" class=\"dataframe\">\n",
       "  <thead>\n",
       "    <tr style=\"text-align: right;\">\n",
       "      <th></th>\n",
       "      <th>Latitude</th>\n",
       "      <th>Longitude</th>\n",
       "      <th>Depth</th>\n",
       "      <th>Depth Error</th>\n",
       "      <th>Depth Seismic Stations</th>\n",
       "      <th>Magnitude</th>\n",
       "      <th>Magnitude Error</th>\n",
       "      <th>Magnitude Seismic Stations</th>\n",
       "      <th>Azimuthal Gap</th>\n",
       "      <th>Horizontal Distance</th>\n",
       "      <th>Horizontal Error</th>\n",
       "      <th>Root Mean Square</th>\n",
       "    </tr>\n",
       "  </thead>\n",
       "  <tbody>\n",
       "    <tr>\n",
       "      <th>Latitude</th>\n",
       "      <td>1.000000</td>\n",
       "      <td>-0.893475</td>\n",
       "      <td>-0.849861</td>\n",
       "      <td>0.092804</td>\n",
       "      <td>-0.640996</td>\n",
       "      <td>0.047302</td>\n",
       "      <td>0.375621</td>\n",
       "      <td>-0.449282</td>\n",
       "      <td>-0.496831</td>\n",
       "      <td>-0.179381</td>\n",
       "      <td>0.047453</td>\n",
       "      <td>-0.145887</td>\n",
       "    </tr>\n",
       "    <tr>\n",
       "      <th>Longitude</th>\n",
       "      <td>-0.893475</td>\n",
       "      <td>1.000000</td>\n",
       "      <td>0.989156</td>\n",
       "      <td>-0.463369</td>\n",
       "      <td>0.733240</td>\n",
       "      <td>0.203238</td>\n",
       "      <td>-0.450969</td>\n",
       "      <td>0.374292</td>\n",
       "      <td>0.133298</td>\n",
       "      <td>-0.273142</td>\n",
       "      <td>-0.371899</td>\n",
       "      <td>-0.125503</td>\n",
       "    </tr>\n",
       "    <tr>\n",
       "      <th>Depth</th>\n",
       "      <td>-0.849861</td>\n",
       "      <td>0.989156</td>\n",
       "      <td>1.000000</td>\n",
       "      <td>-0.543800</td>\n",
       "      <td>0.703093</td>\n",
       "      <td>0.204745</td>\n",
       "      <td>-0.481299</td>\n",
       "      <td>0.349410</td>\n",
       "      <td>0.066177</td>\n",
       "      <td>-0.358769</td>\n",
       "      <td>-0.485036</td>\n",
       "      <td>-0.143403</td>\n",
       "    </tr>\n",
       "    <tr>\n",
       "      <th>Depth Error</th>\n",
       "      <td>0.092804</td>\n",
       "      <td>-0.463369</td>\n",
       "      <td>-0.543800</td>\n",
       "      <td>1.000000</td>\n",
       "      <td>-0.474761</td>\n",
       "      <td>-0.621015</td>\n",
       "      <td>0.522184</td>\n",
       "      <td>0.357133</td>\n",
       "      <td>0.771072</td>\n",
       "      <td>0.842604</td>\n",
       "      <td>0.844146</td>\n",
       "      <td>0.390838</td>\n",
       "    </tr>\n",
       "    <tr>\n",
       "      <th>Depth Seismic Stations</th>\n",
       "      <td>-0.640996</td>\n",
       "      <td>0.733240</td>\n",
       "      <td>0.703093</td>\n",
       "      <td>-0.474761</td>\n",
       "      <td>1.000000</td>\n",
       "      <td>0.278579</td>\n",
       "      <td>-0.419536</td>\n",
       "      <td>-0.024712</td>\n",
       "      <td>-0.183627</td>\n",
       "      <td>-0.144880</td>\n",
       "      <td>-0.081382</td>\n",
       "      <td>0.170400</td>\n",
       "    </tr>\n",
       "    <tr>\n",
       "      <th>Magnitude</th>\n",
       "      <td>0.047302</td>\n",
       "      <td>0.203238</td>\n",
       "      <td>0.204745</td>\n",
       "      <td>-0.621015</td>\n",
       "      <td>0.278579</td>\n",
       "      <td>1.000000</td>\n",
       "      <td>-0.369843</td>\n",
       "      <td>-0.316102</td>\n",
       "      <td>-0.588942</td>\n",
       "      <td>-0.517275</td>\n",
       "      <td>-0.443434</td>\n",
       "      <td>-0.438841</td>\n",
       "    </tr>\n",
       "    <tr>\n",
       "      <th>Magnitude Error</th>\n",
       "      <td>0.375621</td>\n",
       "      <td>-0.450969</td>\n",
       "      <td>-0.481299</td>\n",
       "      <td>0.522184</td>\n",
       "      <td>-0.419536</td>\n",
       "      <td>-0.369843</td>\n",
       "      <td>1.000000</td>\n",
       "      <td>0.424626</td>\n",
       "      <td>0.192393</td>\n",
       "      <td>0.211660</td>\n",
       "      <td>0.452765</td>\n",
       "      <td>0.238118</td>\n",
       "    </tr>\n",
       "    <tr>\n",
       "      <th>Magnitude Seismic Stations</th>\n",
       "      <td>-0.449282</td>\n",
       "      <td>0.374292</td>\n",
       "      <td>0.349410</td>\n",
       "      <td>0.357133</td>\n",
       "      <td>-0.024712</td>\n",
       "      <td>-0.316102</td>\n",
       "      <td>0.424626</td>\n",
       "      <td>1.000000</td>\n",
       "      <td>0.640909</td>\n",
       "      <td>0.151940</td>\n",
       "      <td>0.136931</td>\n",
       "      <td>0.093769</td>\n",
       "    </tr>\n",
       "    <tr>\n",
       "      <th>Azimuthal Gap</th>\n",
       "      <td>-0.496831</td>\n",
       "      <td>0.133298</td>\n",
       "      <td>0.066177</td>\n",
       "      <td>0.771072</td>\n",
       "      <td>-0.183627</td>\n",
       "      <td>-0.588942</td>\n",
       "      <td>0.192393</td>\n",
       "      <td>0.640909</td>\n",
       "      <td>1.000000</td>\n",
       "      <td>0.747377</td>\n",
       "      <td>0.519585</td>\n",
       "      <td>0.334303</td>\n",
       "    </tr>\n",
       "    <tr>\n",
       "      <th>Horizontal Distance</th>\n",
       "      <td>-0.179381</td>\n",
       "      <td>-0.273142</td>\n",
       "      <td>-0.358769</td>\n",
       "      <td>0.842604</td>\n",
       "      <td>-0.144880</td>\n",
       "      <td>-0.517275</td>\n",
       "      <td>0.211660</td>\n",
       "      <td>0.151940</td>\n",
       "      <td>0.747377</td>\n",
       "      <td>1.000000</td>\n",
       "      <td>0.817890</td>\n",
       "      <td>0.610043</td>\n",
       "    </tr>\n",
       "    <tr>\n",
       "      <th>Horizontal Error</th>\n",
       "      <td>0.047453</td>\n",
       "      <td>-0.371899</td>\n",
       "      <td>-0.485036</td>\n",
       "      <td>0.844146</td>\n",
       "      <td>-0.081382</td>\n",
       "      <td>-0.443434</td>\n",
       "      <td>0.452765</td>\n",
       "      <td>0.136931</td>\n",
       "      <td>0.519585</td>\n",
       "      <td>0.817890</td>\n",
       "      <td>1.000000</td>\n",
       "      <td>0.465154</td>\n",
       "    </tr>\n",
       "    <tr>\n",
       "      <th>Root Mean Square</th>\n",
       "      <td>-0.145887</td>\n",
       "      <td>-0.125503</td>\n",
       "      <td>-0.143403</td>\n",
       "      <td>0.390838</td>\n",
       "      <td>0.170400</td>\n",
       "      <td>-0.438841</td>\n",
       "      <td>0.238118</td>\n",
       "      <td>0.093769</td>\n",
       "      <td>0.334303</td>\n",
       "      <td>0.610043</td>\n",
       "      <td>0.465154</td>\n",
       "      <td>1.000000</td>\n",
       "    </tr>\n",
       "  </tbody>\n",
       "</table>\n",
       "</div>"
      ],
      "text/plain": [
       "                            Latitude  Longitude     Depth  Depth Error  \\\n",
       "Latitude                    1.000000  -0.893475 -0.849861     0.092804   \n",
       "Longitude                  -0.893475   1.000000  0.989156    -0.463369   \n",
       "Depth                      -0.849861   0.989156  1.000000    -0.543800   \n",
       "Depth Error                 0.092804  -0.463369 -0.543800     1.000000   \n",
       "Depth Seismic Stations     -0.640996   0.733240  0.703093    -0.474761   \n",
       "Magnitude                   0.047302   0.203238  0.204745    -0.621015   \n",
       "Magnitude Error             0.375621  -0.450969 -0.481299     0.522184   \n",
       "Magnitude Seismic Stations -0.449282   0.374292  0.349410     0.357133   \n",
       "Azimuthal Gap              -0.496831   0.133298  0.066177     0.771072   \n",
       "Horizontal Distance        -0.179381  -0.273142 -0.358769     0.842604   \n",
       "Horizontal Error            0.047453  -0.371899 -0.485036     0.844146   \n",
       "Root Mean Square           -0.145887  -0.125503 -0.143403     0.390838   \n",
       "\n",
       "                            Depth Seismic Stations  Magnitude  \\\n",
       "Latitude                                 -0.640996   0.047302   \n",
       "Longitude                                 0.733240   0.203238   \n",
       "Depth                                     0.703093   0.204745   \n",
       "Depth Error                              -0.474761  -0.621015   \n",
       "Depth Seismic Stations                    1.000000   0.278579   \n",
       "Magnitude                                 0.278579   1.000000   \n",
       "Magnitude Error                          -0.419536  -0.369843   \n",
       "Magnitude Seismic Stations               -0.024712  -0.316102   \n",
       "Azimuthal Gap                            -0.183627  -0.588942   \n",
       "Horizontal Distance                      -0.144880  -0.517275   \n",
       "Horizontal Error                         -0.081382  -0.443434   \n",
       "Root Mean Square                          0.170400  -0.438841   \n",
       "\n",
       "                            Magnitude Error  Magnitude Seismic Stations  \\\n",
       "Latitude                           0.375621                   -0.449282   \n",
       "Longitude                         -0.450969                    0.374292   \n",
       "Depth                             -0.481299                    0.349410   \n",
       "Depth Error                        0.522184                    0.357133   \n",
       "Depth Seismic Stations            -0.419536                   -0.024712   \n",
       "Magnitude                         -0.369843                   -0.316102   \n",
       "Magnitude Error                    1.000000                    0.424626   \n",
       "Magnitude Seismic Stations         0.424626                    1.000000   \n",
       "Azimuthal Gap                      0.192393                    0.640909   \n",
       "Horizontal Distance                0.211660                    0.151940   \n",
       "Horizontal Error                   0.452765                    0.136931   \n",
       "Root Mean Square                   0.238118                    0.093769   \n",
       "\n",
       "                            Azimuthal Gap  Horizontal Distance  \\\n",
       "Latitude                        -0.496831            -0.179381   \n",
       "Longitude                        0.133298            -0.273142   \n",
       "Depth                            0.066177            -0.358769   \n",
       "Depth Error                      0.771072             0.842604   \n",
       "Depth Seismic Stations          -0.183627            -0.144880   \n",
       "Magnitude                       -0.588942            -0.517275   \n",
       "Magnitude Error                  0.192393             0.211660   \n",
       "Magnitude Seismic Stations       0.640909             0.151940   \n",
       "Azimuthal Gap                    1.000000             0.747377   \n",
       "Horizontal Distance              0.747377             1.000000   \n",
       "Horizontal Error                 0.519585             0.817890   \n",
       "Root Mean Square                 0.334303             0.610043   \n",
       "\n",
       "                            Horizontal Error  Root Mean Square  \n",
       "Latitude                            0.047453         -0.145887  \n",
       "Longitude                          -0.371899         -0.125503  \n",
       "Depth                              -0.485036         -0.143403  \n",
       "Depth Error                         0.844146          0.390838  \n",
       "Depth Seismic Stations             -0.081382          0.170400  \n",
       "Magnitude                          -0.443434         -0.438841  \n",
       "Magnitude Error                     0.452765          0.238118  \n",
       "Magnitude Seismic Stations          0.136931          0.093769  \n",
       "Azimuthal Gap                       0.519585          0.334303  \n",
       "Horizontal Distance                 0.817890          0.610043  \n",
       "Horizontal Error                    1.000000          0.465154  \n",
       "Root Mean Square                    0.465154          1.000000  "
      ]
     },
     "execution_count": 129,
     "metadata": {},
     "output_type": "execute_result"
    }
   ],
   "source": [
    "df.corr()"
   ]
  },
  {
   "cell_type": "code",
   "execution_count": 130,
   "metadata": {},
   "outputs": [
    {
     "name": "stdout",
     "output_type": "stream",
     "text": [
      "A correlação entre as variáveis 'Magnitude Error' e 'Depth' é de -0.481299\n"
     ]
    }
   ],
   "source": [
    "print(\"A correlação entre as variáveis 'Magnitude Error' e 'Depth' é de -0.481299\")"
   ]
  },
  {
   "cell_type": "markdown",
   "metadata": {},
   "source": [
    "Explique o que significa o valor da correlação calculada acima? "
   ]
  },
  {
   "cell_type": "markdown",
   "metadata": {
    "collapsed": true
   },
   "source": [
    "O coeficiente de correlação obtido acima indica o quão associada a variável Magnitude Error está à variável Depth. Esse valor varia entre 1 e -1, sendo que quanto mais próximo estiver desses dois extremos, maior é o grau de associação entre as variáveis, e quanto mais próximo de 0, menos associadas e dependentes uma da outra elas estão. Observando o gráfico, quanto mais dispersos estiverem os pontos, menor é a correlação entre as duas variáveis analisadas, bem como quanto mais unidos, maior é esta associação. "
   ]
  },
  {
   "cell_type": "markdown",
   "metadata": {},
   "source": [
    "## Q5 - Describe e boxplot\n",
    "\n",
    "Faça o `describe` e o *boxplot* da `Latitude` e da `Longitude`. Explique os valores"
   ]
  },
  {
   "cell_type": "code",
   "execution_count": 142,
   "metadata": {},
   "outputs": [
    {
     "name": "stdout",
     "output_type": "stream",
     "text": [
      "Latitude\n",
      "count    14.000000\n",
      "mean     36.381374\n",
      "std       6.223248\n",
      "min      18.045000\n",
      "25%      37.253458\n",
      "50%      37.295917\n",
      "75%      37.311167\n",
      "max      46.207333\n",
      "Name: Latitude, dtype: float64\n",
      "\n",
      "Longitude\n",
      "count     14.000000\n",
      "mean    -113.313869\n",
      "std       13.061325\n",
      "min     -122.188000\n",
      "25%     -116.470417\n",
      "50%     -116.409917\n",
      "75%     -116.336375\n",
      "max      -68.350900\n",
      "Name: Longitude, dtype: float64\n",
      "\n"
     ]
    },
    {
     "data": {
      "text/plain": [
       "<matplotlib.axes._subplots.AxesSubplot at 0x18067bbc630>"
      ]
     },
     "execution_count": 142,
     "metadata": {},
     "output_type": "execute_result"
    },
    {
     "data": {
      "image/png": "[encoded data removed]",
      "text/plain": [
       "<matplotlib.figure.Figure at 0x18067c24048>"
      ]
     },
     "metadata": {},
     "output_type": "display_data"
    }
   ],
   "source": [
    "print(\"Latitude\\n{0}\\n\" .format(df.Latitude.describe()))\n",
    "\n",
    "print(\"Longitude\\n{0}\\n\" .format(df.Longitude.describe()))\n",
    "\n",
    "\n",
    "df.boxplot(['Latitude','Longitude'])"
   ]
  },
  {
   "cell_type": "markdown",
   "metadata": {},
   "source": [
    "O 'describe' retorna a média, o desvio padrão dos dados em relação à média, o mínimo e o máximo valor assumido pela variável e os valores dos quartis (25%, 50% e 75% da amostra)."
   ]
  },
  {
   "cell_type": "markdown",
   "metadata": {},
   "source": [
    "## Q6 - Tirando conclusões com base nos dados\n",
    "\n",
    "Em um certo lugar já ocorreram abalos com *Magnitude Type* `MB` e *Type* `Nuclear Explosion`. \n",
    " \n",
    "Responda: \n",
    "    * É mais provável que tenha sido no norte ou no sul? \n",
    "    \n",
    "Assuma que os Magnitude Type e Type são independentes\n"
   ]
  },
  {
   "cell_type": "markdown",
   "metadata": {
    "collapsed": true
   },
   "source": [
    "Não encontrei nenhum Magnitude Type do tipo MB, apenas ML e um MD, mas, independente do que se esteja querendo dizer, se partimos do pressuposto de que as variáveis Magnitude Type e Type são independentes, basta multiplicar as probabilidades - dentro do Hemifério Sul e do Hemisfério Norte - da ocorrência de uma explosão nuclear (Nuclear Explosion) pela probabilidade de ocorrência do tipo de magnitude esperado. O hemisfério com a maior probabilidade é aquele onde há mais chance de ocorrer os tipos de abalo esperados."
   ]
  },
  {
   "cell_type": "code",
   "execution_count": null,
   "metadata": {
    "collapsed": true
   },
   "outputs": [],
   "source": []
  }
 ],
 "metadata": {
  "kernelspec": {
   "display_name": "Python 3",
   "language": "python",
   "name": "python3"
  },
  "language_info": {
   "codemirror_mode": {
    "name": "ipython",
    "version": 3
   },
   "file_extension": ".py",
   "mimetype": "text/x-python",
   "name": "python",
   "nbconvert_exporter": "python",
   "pygments_lexer": "ipython3",
   "version": "3.6.1"
  }
 },
 "nbformat": 4,
 "nbformat_minor": 1
}
