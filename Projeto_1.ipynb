{
 "cells": [
  {
   "cell_type": "markdown",
   "metadata": {},
   "source": [
    "Problema: A desinformação, na medida em que priva os indivíduos de benefícios \n",
    "que são seus por direito – a exemplo, os programas governamentais de transferência de renda – \n",
    "pode ser considerada um fator determinante na perpetuação da pobreza no Brasil?"
   ]
  },
  {
   "cell_type": "code",
   "execution_count": 90,
   "metadata": {},
   "outputs": [
    {
     "name": "stderr",
     "output_type": "stream",
     "text": [
      "C:\\Users\\taina\\Anaconda3\\lib\\site-packages\\ipykernel_launcher.py:26: UserWarning: Boolean Series key will be reindexed to match DataFrame index.\n",
      "C:\\Users\\taina\\Anaconda3\\lib\\site-packages\\ipykernel_launcher.py:27: UserWarning: Boolean Series key will be reindexed to match DataFrame index.\n",
      "C:\\Users\\taina\\Anaconda3\\lib\\site-packages\\ipykernel_launcher.py:28: UserWarning: Boolean Series key will be reindexed to match DataFrame index.\n"
     ]
    }
   ],
   "source": [
    "import pandas as pd\n",
    "import os\n",
    "import matplotlib.pyplot as plt\n",
    "\n",
    "meu_diretorio = \"/Users/taina/documents/ciência_dos_dados\"\n",
    "os.chdir(meu_diretorio)\n",
    "\n",
    "data = pd.read_table('DOM2014.csv', encoding=\"Windows-1252\",sep=\",\")\n",
    "#televisao = data.groupby([data.V0226, data.V0227], as_index=False).sum()\n",
    "df = pd.DataFrame({'Baixa_Renda': data.V4622,\n",
    "                   'Radio': data.V0225,\n",
    "                   'TV_cores': data.V0226,\n",
    "                   'Internet': data.V02322,\n",
    "                   'Info_Cad_Único' : data.V33001,\n",
    "                   'Prog_Sociais' : data.V33002})\n",
    "\n",
    "df2 = pd.DataFrame({'Média e Alta Renda': data.V4622,\n",
    "                   'Radio': data.V0225,\n",
    "                   'TV_cores': data.V0226,\n",
    "                   'Internet': data.V02322,\n",
    "                   'Info_Cad_Único' : data.V33001,\n",
    "                   'Prog_Sociais' : data.V33002})\n",
    "\n",
    "\n",
    "df = df[(data.V4622==0) | (data.V4622==1) | (data.V4622==2)]\n",
    "df = df[(data.UF>=11) & (data.UF<=29)]\n",
    "df2 = df[(data.V4622==3) | (data.V4622==4) | (data.V4622==5) | (data.V4622==6) | (data.V4622==7)]\n",
    "df2 = df[(data.UF>=11) & (data.UF<=29)]\n",
    "#df3 = df[(data.V4622==0) | (data.V4622==1) | (data.V4622==2)]\n",
    "#df3 = df[(data.UF>=11) & (data.UF<=29)]\n",
    "#df3 = df[(data.V4622==0) | (data.V4622==1) | (data.V4622==2)]\n",
    "#df3 = df[(data.V02322==2) & (data.V0226==2) & (data.V0225==1)]\n",
    "\n",
    "df = df.dropna()\n",
    "df.Info_Cad_Único = df.Info_Cad_Único.astype('category')\n",
    "df.Info_Cad_Único.cat.categories = (['Não'])\n",
    "df.Internet = df.Internet.astype('category')\n",
    "df.Internet.cat.categories = (['Sim', 'Não'])\n",
    "df.Prog_Sociais = df.Prog_Sociais.astype('category')\n",
    "df.Prog_Sociais.cat.categories = (['Sim','Não'])\n",
    "df.Radio = df.Radio.astype('category')\n",
    "df.Radio.cat.categories = (['Sim','Não'])\n",
    "df.TV_cores = df.TV_cores.astype('category')\n",
    "df.TV_cores.cat.categories = (['Sim','Não'])\n",
    "\n",
    "\n",
    "renda = data.V4622\n",
    "\n",
    "df2 = df2.dropna()\n",
    "df2.Info_Cad_Único = df2.Info_Cad_Único.astype('category')\n",
    "df2.Internet = df2.Internet.astype('category')\n",
    "df2.Prog_Sociais = df2.Prog_Sociais.astype('category')\n",
    "df2.Radio = df2.Radio.astype('category')\n",
    "df2.TV_cores = df2.TV_cores.astype('category')\n",
    "\n",
    "#df3 = df3.dropna()\n",
    "#df3"
   ]
  },
  {
   "cell_type": "code",
   "execution_count": 91,
   "metadata": {},
   "outputs": [
    {
     "name": "stdout",
     "output_type": "stream",
     "text": [
      "Frequências absolutas (Conhecimento acerca dos Programas Sociais mantidos pelo governo:\n",
      "Sim    5389\n",
      "Não     536\n",
      "Name: Prog_Sociais, dtype: int64 \n",
      "\n",
      "Frequências absolutas (Conhecimento acerca do Cadastro Único de Programas Sociais do Governo Federal:\n",
      "Sim       NaN\n",
      "Não    5925.0\n",
      "Name: Info_Cad_Único, dtype: float64 \n",
      "\n",
      "Frequências absolutas (Pessoas que possuem acesso à Internet no próprio domicílio:\n",
      "Sim    1843\n",
      "Não    4082\n",
      "Name: Internet, dtype: int64 \n",
      "\n",
      "Frequências absolutas (Pessoas que possuem TV em cores:)\n",
      "Sim    5562\n",
      "Não     363\n",
      "Name: TV_cores, dtype: int64 \n",
      "\n",
      "Frequências absolutas (Pessoas que possuem rádio:)\n",
      "Sim    3528\n",
      "Não    2397\n",
      "Name: Radio, dtype: int64 \n",
      "\n"
     ]
    }
   ],
   "source": [
    "abs_freq_prog_sociais = df.Prog_Sociais.value_counts().reindex(['Sim', 'Não'])\n",
    "print('Frequências absolutas (Conhecimento acerca dos Programas Sociais mantidos pelo governo:')\n",
    "print(abs_freq_prog_sociais,'\\n')\n",
    "\n",
    "abs_freq_cad_unico = df.Info_Cad_Único.value_counts().reindex(['Sim', 'Não'])\n",
    "print('Frequências absolutas (Conhecimento acerca do Cadastro Único de Programas Sociais do Governo Federal:')\n",
    "print(abs_freq_cad_unico,'\\n')\n",
    "\n",
    "abs_freq_internet = df.Internet.value_counts().reindex(['Sim', 'Não'])\n",
    "print('Frequências absolutas (Pessoas que possuem acesso à Internet no próprio domicílio:')\n",
    "print(abs_freq_internet,'\\n')\n",
    "\n",
    "abs_freq_TV = df.TV_cores.value_counts().reindex(['Sim', 'Não'])\n",
    "print('Frequências absolutas (Pessoas que possuem TV em cores:)')\n",
    "print(abs_freq_TV,'\\n')\n",
    "\n",
    "abs_freq_radio = df.Radio.value_counts().reindex(['Sim', 'Não'])\n",
    "print('Frequências absolutas (Pessoas que possuem rádio:)')\n",
    "print(abs_freq_radio,'\\n')"
   ]
  },
  {
   "cell_type": "code",
   "execution_count": 92,
   "metadata": {},
   "outputs": [
    {
     "name": "stdout",
     "output_type": "stream",
     "text": [
      "Frequências relativas (Conhecimento acerca dos Programas Sociais mantidos pelo governo:\n",
      "Sim    90.953586\n",
      "Não     9.046414\n",
      "Name: Prog_Sociais, dtype: float64 \n",
      "\n",
      "Frequências absolutas (Conhecimento acerca do Cadastro Único de Programas Sociais do Governo Federal:\n",
      "Não    100.0\n",
      "Name: Info_Cad_Único, dtype: float64 \n",
      "\n",
      "Frequências absolutas (Pessoas que possuem acesso à Internet no próprio domicílio:\n",
      "Não    68.894515\n",
      "Sim    31.105485\n",
      "Name: Internet, dtype: float64 \n",
      "\n",
      "Frequências absolutas (Pessoas que possuem TV em cores:)\n",
      "Sim    93.873418\n",
      "Não     6.126582\n",
      "Name: TV_cores, dtype: float64 \n",
      "\n",
      "Frequências absolutas (Pessoas que possuem rádio:)\n",
      "Sim    59.544304\n",
      "Não    40.455696\n",
      "Name: Radio, dtype: float64 \n",
      "\n"
     ]
    }
   ],
   "source": [
    "\n",
    "abs_relat_prog_sociais = df.Prog_Sociais.value_counts(True)*100\n",
    "print('Frequências relativas (Conhecimento acerca dos Programas Sociais mantidos pelo governo:')\n",
    "print(abs_relat_prog_sociais,'\\n')\n",
    "\n",
    "abs_relat_cad_unico = df.Info_Cad_Único.value_counts(True)*100\n",
    "print('Frequências absolutas (Conhecimento acerca do Cadastro Único de Programas Sociais do Governo Federal:')\n",
    "print(abs_relat_cad_unico,'\\n')\n",
    "\n",
    "abs_relat_internet = df.Internet.value_counts(True)*100\n",
    "print('Frequências absolutas (Pessoas que possuem acesso à Internet no próprio domicílio:')\n",
    "print(abs_relat_internet,'\\n')\n",
    "\n",
    "abs_relat_TV = df.TV_cores.value_counts(True)*100\n",
    "print('Frequências absolutas (Pessoas que possuem TV em cores:)')\n",
    "print(abs_relat_TV,'\\n')\n",
    "\n",
    "abs_relat_radio = df.Radio.value_counts(True)*100\n",
    "print('Frequências absolutas (Pessoas que possuem rádio:)')\n",
    "print(abs_relat_radio,'\\n')\n",
    "\n",
    "#internet_e_tv = df[(df.Internet==2)] & df[(df.TV_cores==2)]\n",
    "\n",
    "#a = df[(df.Internet==2)]\n",
    "#b = df[(df.TV_cores==2)]\n",
    "#c = df[(df.Radio==1)]\n",
    "\n",
    "\n",
    "#df[(data.V4622==0) | (data.V4622==1) | (data.V4622==2)]"
   ]
  },
  {
   "cell_type": "code",
   "execution_count": 93,
   "metadata": {},
   "outputs": [
    {
     "name": "stdout",
     "output_type": "stream",
     "text": [
      "Frequências relativas (Conhecimento acerca dos Programas Sociais mantidos pelo governo:\n",
      "Sim    90.953586\n",
      "Não     9.046414\n",
      "Name: Prog_Sociais, dtype: float64 \n",
      "\n",
      "Frequências absolutas (Conhecimento acerca do Cadastro Único de Programas Sociais do Governo Federal:\n",
      "Não    100.0\n",
      "Name: Info_Cad_Único, dtype: float64 \n",
      "\n",
      "Frequências absolutas (Pessoas que possuem acesso à Internet no próprio domicílio:\n",
      "Não    68.894515\n",
      "Sim    31.105485\n",
      "Name: Internet, dtype: float64 \n",
      "\n",
      "Frequências absolutas (Pessoas que possuem TV em cores:)\n",
      "Sim    93.873418\n",
      "Não     6.126582\n",
      "Name: TV_cores, dtype: float64 \n",
      "\n",
      "Frequências absolutas (Pessoas que possuem rádio:)\n",
      "Sim    59.544304\n",
      "Não    40.455696\n",
      "Name: Radio, dtype: float64 \n",
      "\n"
     ]
    }
   ],
   "source": [
    "abs_relat2_prog_sociais = df2.Prog_Sociais.value_counts(True)*100\n",
    "print('Frequências relativas (Conhecimento acerca dos Programas Sociais mantidos pelo governo:')\n",
    "print(abs_relat_prog_sociais,'\\n')\n",
    "\n",
    "abs_relat2_cad_unico = df2.Info_Cad_Único.value_counts(True)*100\n",
    "print('Frequências absolutas (Conhecimento acerca do Cadastro Único de Programas Sociais do Governo Federal:')\n",
    "print(abs_relat_cad_unico,'\\n')\n",
    "\n",
    "abs_relat2_internet = df2.Internet.value_counts(True)*100\n",
    "print('Frequências absolutas (Pessoas que possuem acesso à Internet no próprio domicílio:')\n",
    "print(abs_relat_internet,'\\n')\n",
    "\n",
    "abs_relat2_TV = df2.TV_cores.value_counts(True)*100\n",
    "print('Frequências absolutas (Pessoas que possuem TV em cores:)')\n",
    "print(abs_relat_TV,'\\n')\n",
    "\n",
    "abs_relat2_radio = df2.Radio.value_counts(True)*100\n",
    "print('Frequências absolutas (Pessoas que possuem rádio:)')\n",
    "print(abs_relat_radio,'\\n')"
   ]
  },
  {
   "cell_type": "code",
   "execution_count": 94,
   "metadata": {},
   "outputs": [
    {
     "ename": "SyntaxError",
     "evalue": "invalid syntax (<ipython-input-94-6a55658b346c>, line 4)",
     "output_type": "error",
     "traceback": [
      "\u001b[1;36m  File \u001b[1;32m\"<ipython-input-94-6a55658b346c>\"\u001b[1;36m, line \u001b[1;32m4\u001b[0m\n\u001b[1;33m    series = pd.Series(3 * np.random.rand(3), index=[df3['Rádio'], df3['Internet'], df3['Tv_cores'], name='series')\u001b[0m\n\u001b[1;37m                                                                                                         ^\u001b[0m\n\u001b[1;31mSyntaxError\u001b[0m\u001b[1;31m:\u001b[0m invalid syntax\n"
     ]
    }
   ],
   "source": [
    "%matplotlib inline\n",
    "import numpy as np\n",
    "\n",
    "series = pd.Series(3 * np.random.rand(3), index=[df3['Rádio'], df3['Internet'], df3['Tv_cores'], name='series')\n",
    "print(series)\n",
    "#series.plot.pie(figsize=(6, 6))\n",
    "\n",
    "#plot = abs_relat_internet.plot(kind='pie',title='Acesso à Internet em domicílio por pessoas de baixa renda',autopct='%.1f',figsize=(6, 6))\n",
    "#plot2 = abs_relat_radio.plot(kind='pie',autopct='%.1f',figsize=(6, 6))"
   ]
  },
  {
   "cell_type": "code",
   "execution_count": null,
   "metadata": {
    "collapsed": true
   },
   "outputs": [],
   "source": [
    "#series = pd.Series(3 * np.random.rand(4), index=['a', 'b', 'c', 'd'], name='series')\n",
    "\n"
   ]
  },
  {
   "cell_type": "code",
   "execution_count": null,
   "metadata": {},
   "outputs": [],
   "source": [
    "\n",
    "\n",
    "\n",
    "plot2 = abs_relat2_internet.plot(kind='pie',title='Acesso à Internet em domicílio por pessoas de média e alta renda',autopct='%.1f',figsize=(6, 6))"
   ]
  },
  {
   "cell_type": "code",
   "execution_count": 125,
   "metadata": {},
   "outputs": [
    {
     "name": "stdout",
     "output_type": "stream",
     "text": [
      "Programas Sociais        Sim       Não         All\n",
      "Internet                                          \n",
      "Sim                28.843882  2.261603   31.105485\n",
      "Não                62.109705  6.784810   68.894515\n",
      "All                90.953586  9.046414  100.000000\n",
      "Programas Sociais   Sim  Não   All\n",
      "Rádio                             \n",
      "Sim                3238  290  3528\n",
      "Não                2151  246  2397\n",
      "All                5389  536  5925\n"
     ]
    },
    {
     "data": {
      "text/plain": [
       "'Interessante gerar gráficos:\\n    \\nComparação entre o conhecimento acerca dos Programas Sociais pelas pessoas de renda mais alta e de renda mais baixa\\nCrosstab e gráfico para demonstrar se quem tem mais acesso à informação sabe mais\\nDentre os que tem acesso, quem sabe mais é quem acessa qual meio'"
      ]
     },
     "execution_count": 125,
     "metadata": {},
     "output_type": "execute_result"
    },
    {
     "data": {
      "image/png": "[encoded data removed]",
      "text/plain": [
       "<matplotlib.figure.Figure at 0x135dd362ac8>"
      ]
     },
     "metadata": {},
     "output_type": "display_data"
    },
    {
     "data": {
      "image/png": "[encoded data removed]",
      "text/plain": [
       "<matplotlib.figure.Figure at 0x135dd362eb8>"
      ]
     },
     "metadata": {},
     "output_type": "display_data"
    }
   ],
   "source": [
    "cruzando_informacoes = pd.crosstab([df.Internet],[df.Prog_Sociais],margins=True,rownames=['Internet'], colnames=['Programas Sociais'], normalize='all')*100\n",
    "print(cruzando_informacoes)\n",
    "\n",
    "cruzando_informacoes2 = pd.crosstab([df.Radio],[df.Prog_Sociais],margins=True,rownames=['Rádio'], colnames=['Programas Sociais'])\n",
    "print(cruzando_informacoes2)\n",
    "\n",
    "pd.crosstab([])\n",
    "\n",
    "\n",
    "plot = cruzando_informacoes.iloc[0:2].plot(kind='bar',stacked=True)\n",
    "plt.ylabel('Freq.Relativa (em%)')\n",
    "\n",
    "plot = cruzando_informacoes2.plot(kind='barh',stacked=True)\n",
    "plt.ylabel('Freq.Relativa (em%)')\n",
    "\n",
    "\n",
    "\n",
    "\n",
    "\n",
    "\"\"\"Interessante gerar gráficos:\n",
    "    \n",
    "Comparação entre o conhecimento acerca dos Programas Sociais pelas pessoas de renda mais alta e de renda mais baixa\n",
    "Crosstab e gráfico para demonstrar se quem tem mais acesso à informação sabe mais\n",
    "Dentre os que tem acesso, quem sabe mais é quem acessa qual meio\"\"\""
   ]
  },
  {
   "cell_type": "code",
   "execution_count": null,
   "metadata": {
    "collapsed": true
   },
   "outputs": [],
   "source": []
  }
 ],
 "metadata": {
  "kernelspec": {
   "display_name": "Python 3",
   "language": "python",
   "name": "python3"
  },
  "language_info": {
   "codemirror_mode": {
    "name": "ipython",
    "version": 3
   },
   "file_extension": ".py",
   "mimetype": "text/x-python",
   "name": "python",
   "nbconvert_exporter": "python",
   "pygments_lexer": "ipython3",
   "version": "3.6.1"
  }
 },
 "nbformat": 4,
 "nbformat_minor": 2
}
