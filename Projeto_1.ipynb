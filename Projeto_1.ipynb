{
 "cells": [
  {
   "cell_type": "markdown",
   "metadata": {},
   "source": [
    "Problema: A desinformação, na medida em que priva os indivíduos de benefícios \n",
    "que são seus por direito – a exemplo, os programas governamentais de transferência de renda – \n",
    "pode ser considerada um fator determinante na perpetuação da pobreza no Brasil?"
   ]
  },
  {
   "cell_type": "code",
   "execution_count": 49,
   "metadata": {},
   "outputs": [
    {
     "name": "stdout",
     "output_type": "stream",
     "text": [
      "Frequências absolutas:\n",
      "2.0    7980\n",
      "4.0     936\n",
      "Name: Prog_Sociais, dtype: int64 \n",
      "\n",
      "Frequências absolutas por PLANO:\n",
      "1.0       NaN\n",
      "3.0    8916.0\n",
      "Name: Info_Cad_Único, dtype: float64 \n",
      "\n",
      "Frequências relativas por PLANO:\n",
      "2.0    89.5\n",
      "4.0    10.5\n",
      "Name: Prog_Sociais, dtype: float64 \n",
      "\n"
     ]
    }
   ],
   "source": [
    "import pandas as pd\n",
    "import os\n",
    "\n",
    "meu_diretorio = \"/Users/taina/documents/ciência_dos_dados\"\n",
    "os.chdir(meu_diretorio)\n",
    "\n",
    "data = pd.read_table('DOM2014.csv', encoding=\"Windows-1252\",sep=\",\")\n",
    "df = pd.DataFrame({#'Baixa_Renda': data.V4622,\n",
    "                   'Radio': data.V0225,\n",
    "                   'TV_cores': data.V4622,\n",
    "                   'Internet': data.V02322,\n",
    "                   'Info_Cad_Único' : data.V33001,\n",
    "                   'Prog_Sociais' : data.V33002})\n",
    "#rendimento_interesse = df[(df.Baixa_Renda==0) | (df.Baixa_Renda==1) | (df.Baixa_Renda==2)]\n",
    "\n",
    "\n",
    "#df = df[(df.Baixa_Renda==0) | (df.Baixa_Renda==1) | (df.Baixa_Renda==2)]\n",
    "\n",
    "df = df[(data.V4622==0) | (data.V4622==1) | (data.V4622==2)]\n",
    "\n",
    "#cols = df.columns.tolist()\n",
    "#cols = cols[-3:] + cols[:-3]\n",
    "\n",
    "#df = df[cols]\n",
    "\n",
    "df = df.dropna()\n",
    "df.Info_Cad_Único = df.Info_Cad_Único.astype('category')\n",
    "df.Internet = df.Internet.astype('category')\n",
    "df.Prog_Sociais = df.Prog_Sociais.astype('category')\n",
    "df.Radio = df.Radio.astype('category')\n",
    "df.TV_cores = df.TV_cores.astype('category')\n",
    "\n",
    "print('Frequências absolutas:')\n",
    "ut1 = df.Prog_Sociais.value_counts().reindex([2, 4])\n",
    "print(ut1,'\\n')\n",
    "\n",
    "print('Frequências absolutas por PLANO:')\n",
    "ut2 = df.Info_Cad_Único.value_counts().reindex([1, 3])\n",
    "print(ut2,'\\n')\n",
    "\n",
    "print('Frequências relativas por PLANO:')\n",
    "ut3 = (df.Prog_Sociais.value_counts(normalize=True)*100).round(decimals=1).reindex([2, 4])\n",
    "print(ut3,'\\n')\n",
    "\n"
   ]
  },
  {
   "cell_type": "code",
   "execution_count": null,
   "metadata": {
    "collapsed": true
   },
   "outputs": [],
   "source": []
  }
 ],
 "metadata": {
  "kernelspec": {
   "display_name": "Python 3",
   "language": "python",
   "name": "python3"
  },
  "language_info": {
   "codemirror_mode": {
    "name": "ipython",
    "version": 3
   },
   "file_extension": ".py",
   "mimetype": "text/x-python",
   "name": "python",
   "nbconvert_exporter": "python",
   "pygments_lexer": "ipython3",
   "version": "3.6.1"
  }
 },
 "nbformat": 4,
 "nbformat_minor": 2
}
