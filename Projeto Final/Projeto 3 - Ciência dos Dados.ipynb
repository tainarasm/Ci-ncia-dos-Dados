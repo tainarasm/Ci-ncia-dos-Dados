{
 "cells": [
  {
   "cell_type": "markdown",
   "metadata": {},
   "source": [
    "Projeto 3 - Samara e Tainara\n",
    "\n",
    "Git Hub: www.github.com/tainarasm\n",
    "\n",
    "\n"
   ]
  },
  {
   "cell_type": "markdown",
   "metadata": {},
   "source": [
    "Professor, resolvemos trocar de data set! Agora estamos com um data set que também trata de acidentes de avião, no entanto no mundo todo e não somente no Brasil. Estamos com algumas ideias:\n",
    "\n",
    "1 - Fazer um agrupamento dos acidentes por região do mundo, de modo a observar a presença de algum padrão\n",
    "2 - Desenvolver um classificador que ajuda a prever qual é chance de ocorrer um acidente quando um avião encontra-se em determinada situação (teríamos como referência a coluna \"Summary\")\n",
    "3 - Estudar a influência da localização em que o acidente ocorre no número de mortes (seria uma regressão, acreditamos, no entanto, somente conseguimos transformar a \"localização\" em duas variáveis contínuas (Latitude e Longitude), não é possível fazer o mesmo com o número de mortes - isso inviabilizaria o projeto?)\n",
    "\n",
    "Poderia nos dar um feedback sobre o que é mais interessante desenvolver?\n",
    "\n",
    "Temos uma noção de como fazer um classificador ou uma regressão! Somente não temos de como fazer um cluster!\n",
    "\n",
    "Muito obrigada!"
   ]
  },
  {
   "cell_type": "code",
   "execution_count": 41,
   "metadata": {
    "collapsed": true
   },
   "outputs": [],
   "source": [
    "%matplotlib inline\n",
    "import pandas as pd\n",
    "import matplotlib.pyplot as plt\n",
    "import numpy as np\n",
    "import os\n"
   ]
  },
  {
   "cell_type": "code",
   "execution_count": 42,
   "metadata": {},
   "outputs": [
    {
     "name": "stdout",
     "output_type": "stream",
     "text": [
      "Esperamos trabalhar no diretório\n",
      "C:\\Users\\taina\\Ci-ncia-dos-Dados\\Projeto Final\n"
     ]
    }
   ],
   "source": [
    "print('Esperamos trabalhar no diretório')\n",
    "print(os.getcwd())"
   ]
  },
  {
   "cell_type": "code",
   "execution_count": 43,
   "metadata": {},
   "outputs": [
    {
     "data": {
      "text/html": [
       "<div>\n",
       "<style>\n",
       "    .dataframe thead tr:only-child th {\n",
       "        text-align: right;\n",
       "    }\n",
       "\n",
       "    .dataframe thead th {\n",
       "        text-align: left;\n",
       "    }\n",
       "\n",
       "    .dataframe tbody tr th {\n",
       "        vertical-align: top;\n",
       "    }\n",
       "</style>\n",
       "<table border=\"1\" class=\"dataframe\">\n",
       "  <thead>\n",
       "    <tr style=\"text-align: right;\">\n",
       "      <th></th>\n",
       "      <th></th>\n",
       "      <th>Hora</th>\n",
       "      <th>Precipitacao</th>\n",
       "      <th>TempMaxima</th>\n",
       "      <th>TempMinima</th>\n",
       "      <th>Insolacao</th>\n",
       "      <th>Umidade Relativa Media</th>\n",
       "      <th>Velocidade do Vento Media</th>\n",
       "    </tr>\n",
       "    <tr>\n",
       "      <th>Estacao</th>\n",
       "      <th>Data</th>\n",
       "      <th></th>\n",
       "      <th></th>\n",
       "      <th></th>\n",
       "      <th></th>\n",
       "      <th></th>\n",
       "      <th></th>\n",
       "      <th></th>\n",
       "    </tr>\n",
       "  </thead>\n",
       "  <tbody>\n",
       "    <tr>\n",
       "      <th rowspan=\"5\" valign=\"top\">83781</th>\n",
       "      <th>2010-01-01</th>\n",
       "      <td>1200</td>\n",
       "      <td>3.4</td>\n",
       "      <td>24.3</td>\n",
       "      <td>18.9</td>\n",
       "      <td>0.0</td>\n",
       "      <td>90.50</td>\n",
       "      <td>1.8</td>\n",
       "    </tr>\n",
       "    <tr>\n",
       "      <th>2010-01-02</th>\n",
       "      <td>1200</td>\n",
       "      <td>10.2</td>\n",
       "      <td>29.6</td>\n",
       "      <td>19.1</td>\n",
       "      <td>0.6</td>\n",
       "      <td>88.75</td>\n",
       "      <td>1.2</td>\n",
       "    </tr>\n",
       "    <tr>\n",
       "      <th>2010-01-03</th>\n",
       "      <td>1200</td>\n",
       "      <td>30.4</td>\n",
       "      <td>31.4</td>\n",
       "      <td>20.5</td>\n",
       "      <td>2.2</td>\n",
       "      <td>80.75</td>\n",
       "      <td>3133333.0</td>\n",
       "    </tr>\n",
       "    <tr>\n",
       "      <th>2010-01-04</th>\n",
       "      <td>1200</td>\n",
       "      <td>0.0</td>\n",
       "      <td>33.0</td>\n",
       "      <td>20.1</td>\n",
       "      <td>6.8</td>\n",
       "      <td>83.25</td>\n",
       "      <td>2766667.0</td>\n",
       "    </tr>\n",
       "    <tr>\n",
       "      <th>2010-01-05</th>\n",
       "      <td>1200</td>\n",
       "      <td>14.3</td>\n",
       "      <td>31.9</td>\n",
       "      <td>19.5</td>\n",
       "      <td>3.7</td>\n",
       "      <td>83.00</td>\n",
       "      <td>1133333.0</td>\n",
       "    </tr>\n",
       "  </tbody>\n",
       "</table>\n",
       "</div>"
      ],
      "text/plain": [
       "                    Hora  Precipitacao  TempMaxima  TempMinima  Insolacao  \\\n",
       "Estacao Data                                                                \n",
       "83781   2010-01-01  1200           3.4        24.3        18.9        0.0   \n",
       "        2010-01-02  1200          10.2        29.6        19.1        0.6   \n",
       "        2010-01-03  1200          30.4        31.4        20.5        2.2   \n",
       "        2010-01-04  1200           0.0        33.0        20.1        6.8   \n",
       "        2010-01-05  1200          14.3        31.9        19.5        3.7   \n",
       "\n",
       "                    Umidade Relativa Media  Velocidade do Vento Media  \n",
       "Estacao Data                                                           \n",
       "83781   2010-01-01                   90.50                        1.8  \n",
       "        2010-01-02                   88.75                        1.2  \n",
       "        2010-01-03                   80.75                  3133333.0  \n",
       "        2010-01-04                   83.25                  2766667.0  \n",
       "        2010-01-05                   83.00                  1133333.0  "
      ]
     },
     "execution_count": 43,
     "metadata": {},
     "output_type": "execute_result"
    }
   ],
   "source": [
    "tempo = pd.read_excel('meteorologia.xlsx')\n",
    "#tempo2 = pd.read_excel('franca.xlsx')\n",
    "\n",
    "#meteorologia = tempo.set_index('Data').join(tempo2.set_index('Data'), how='inner', lsuffix='_MirSantana', rsuffix='_Franca')\n",
    "\n",
    "tempo = tempo.groupby(['Estacao','Data'])\n",
    "tempo = tempo.last()\n",
    "tempo = tempo.dropna()\n",
    "\n",
    "#meteorologia\n",
    "\n",
    "tempo.head()\n",
    "\n",
    "#tempo['Precipitacao'].plot()\n",
    "#tempo['TempMaxima'].plot()"
   ]
  },
  {
   "cell_type": "code",
   "execution_count": 296,
   "metadata": {},
   "outputs": [],
   "source": [
    "X = []\n",
    "X_umidade = []\n",
    "X_temp_media_dia_anterior = []\n",
    "Media_precipitacoes = []\n",
    "media_tempmax = []\n",
    "\n",
    "Y = []\n",
    "\n",
    "Y_mentirinha = []\n",
    "\n",
    "for i in range(3,len(tempo['Precipitacao'])):\n",
    "    Y_mentirinha.append(tempo['Precipitacao'][i])\n",
    "\n",
    "\n",
    "for i in range(3,len(tempo['Precipitacao'])):\n",
    "    media_tempmax.append(tempo['Umidade Relativa Media'][i-1]+tempo['Umidade Relativa Media'][i-2])\n",
    "            \n",
    "            \n",
    "\n",
    "for i in range(1,len(tempo['TempMaxima'])):\n",
    "    X.append(tempo['TempMaxima'][i])\n",
    "    X_umidade.append(tempo['Umidade Relativa Media'][i])\n",
    "    \n",
    "\n",
    "for i in range(1,len(tempo['TempMaxima'])):\n",
    "    X_temp_media_dia_anterior.append((tempo['TempMinima'][i-1]+tempo['TempMaxima'][i-1])/2)\n",
    "    \n",
    "for l in range(2,len(tempo['Precipitacao'])):\n",
    "    Media_precipitacoes.append((tempo['Precipitacao'][l-1]+tempo['Precipitacao'][l-2])/2)\n",
    "\n",
    "        \n",
    "    \n",
    "#for l in range(1,len(tempo['Precipitacao'])):\n",
    "    #Y.append(tempo['Precipitacao'][l])\n",
    "    \n",
    "    \n",
    "    \n",
    "X_test = X[0:1200]\n",
    "X_umidade_test = X_umidade[0:1200]\n",
    "y_test = Y[0:1200]\n",
    "\n",
    "lista_X = X[1200:]\n",
    "lista_X_umidade = X_umidade[1200:0]\n",
    "lista_Y = Y[1200:]\n",
    "\n",
    "\n",
    "train = pd.DataFrame({'Hora': tempo['Hora'][2:1500],\n",
    "                      'Precipitação': tempo['Precipitacao'][2:1500],\n",
    "                      'Temperatura Mínima': tempo['TempMinima'][2:1500],\n",
    "                      'Temperatura Máxima': X[2:1500],\n",
    "                      #'Temperatura Máxima Dia Anterior': tempo['TempMaxima'][0:1500],\n",
    "                      'Média de Temperatura do Dia Anterior': X_temp_media_dia_anterior[1:1499],\n",
    "                      'Média de Precipitações dos Dois Dias Anteriores': Media_precipitacoes[0:1498],\n",
    "                      'Insolação': tempo['Insolacao'][2:1500],\n",
    "                      'Umidade Relativa Média': X_umidade[2:1500],\n",
    "                      'Umidade Relativa Média Dia Anterior': tempo['Umidade Relativa Media'][2:1500],\n",
    "                      'Velocidade do Vento Média': tempo['Velocidade do Vento Media'][2:1500]})\n",
    "\n",
    "test = pd.DataFrame({ 'Hora': tempo['Hora'][1502:],\n",
    "                      'Precipitação': tempo['Precipitacao'][1502:],\n",
    "                      'Temperatura Mínima': tempo['TempMinima'][1502:],\n",
    "                      'Temperatura Máxima': tempo['TempMaxima'][1502:],\n",
    "                      #'Temperatura Máxima Dia Anterior': X[1498:2744],\n",
    "                      'Média de Temperatura do Dia Anterior': X_temp_media_dia_anterior[1501:2745],\n",
    "                      'Média de Precipitações dos Dois Dias Anteriores': Media_precipitacoes[1499:2743],\n",
    "                      'Insolação': tempo['Insolacao'][1502:],\n",
    "                      'Umidade Relativa Média': X_umidade[1501:],\n",
    "                      'Umidade Relativa Média Dia Anterior': X_umidade[1500:2744],\n",
    "                      'Velocidade do Vento Média': tempo['Velocidade do Vento Media'][1502:]})\n",
    "    \n",
    "\n",
    "#plt.scatter([lista_X,X_umidade],lista_Y)\n",
    "\n",
    "\n",
    "#Media_precipitacoes\n",
    "#test\n",
    "#X_umidade[1500]"
   ]
  },
  {
   "cell_type": "code",
   "execution_count": 358,
   "metadata": {},
   "outputs": [
    {
     "data": {
      "text/plain": [
       "array([  8.33619213e-112,   1.99866857e-141,   5.95170548e-153,\n",
       "         3.29516947e-158,   2.67959112e-159,   2.63344185e-160,\n",
       "         7.81957572e-162,   7.35310504e-164,   1.98809123e-164,\n",
       "         2.11179572e-165,   1.64168421e-167,   2.43852773e-169,\n",
       "         5.91029435e-171,   8.96677765e-171,   5.15357418e-170,\n",
       "         3.90312586e-169,   2.48191564e-168,   5.10022583e-168,\n",
       "         8.73189830e-169,   2.48089298e-170,   6.42572796e-174,\n",
       "         2.05155394e-176,   1.08685219e-177,   3.47080205e-177,\n",
       "         1.54653251e-176,   3.21186634e-176,   1.07161845e-175,\n",
       "         3.97856259e-175,   7.88820444e-175,   2.43836519e-174,\n",
       "         4.00836459e-174,   2.88256326e-174,   1.01227391e-173,\n",
       "         5.21499618e-173,   2.24139230e-172,   1.11661765e-171,\n",
       "         3.74622400e-171,   1.72649539e-170,   7.36434525e-170,\n",
       "         3.61936045e-169])"
      ]
     },
     "execution_count": 358,
     "metadata": {},
     "output_type": "execute_result"
    }
   ],
   "source": [
    "import numpy as np\n",
    "import statsmodels.api as sm\n",
    "import statsmodels as sm2\n",
    "\n",
    "\n",
    "#lista_X = np.asarray(lista_X)\n",
    "#lista_Y = np.asarray(lista_Y)\n",
    "\n",
    "Y = train['Precipitação']\n",
    "\n",
    "#Y = Y_mentirinha\n",
    "X = train[['Média de Temperatura do Dia Anterior','Média de Precipitações dos Dois Dias Anteriores','Umidade Relativa Média Dia Anterior']]\n",
    "X_teste = test[['Média de Temperatura do Dia Anterior','Média de Precipitações dos Dois Dias Anteriores','Umidade Relativa Média Dia Anterior']]\n",
    "X = sm.add_constant(X)\n",
    "model = sm.OLS(Y,X)\n",
    "results = model.fit()\n",
    "results.summary()\n",
    "\n",
    "\n",
    "#X_teste = np.dot(X_teste,0)\n",
    "\n",
    "#X_teste = np.asarray(X_teste)\n",
    "X_teste = sm.add_constant(X_teste)\n",
    "Y_pred = results.predict(X_teste)\n",
    "\n",
    "#test\n",
    "\n",
    "#pred\n",
    "\n",
    "#len(X)\n",
    "#Y_pred\n",
    "\n",
    "#results.summary()\n",
    "\n",
    "x1 = test['Média de Temperatura do Dia Anterior']\n",
    "x2 = test['Média de Precipitações dos Dois Dias Anteriores']\n",
    "\n",
    "#Y_pred\n",
    "\n",
    "results.summary()\n",
    "\n",
    "sm2.stats.diagnostic.acorr_ljungbox(train['Média de Temperatura do Dia Anterior'])\n",
    "(teste, p) = sm2.stats.diagnostic.acorr_ljungbox(train['Umidade Relativa Média Dia Anterior'])\n",
    "teste\n",
    "p\n",
    "\n",
    "\n",
    "#ia cair em uma série temporal, fizemos o teste de correlação e deu ruim"
   ]
  },
  {
   "cell_type": "code",
   "execution_count": 337,
   "metadata": {},
   "outputs": [
    {
     "data": {
      "image/png": "[encoded data removed]",
      "text/plain": [
       "<matplotlib.figure.Figure at 0x1b1fca7c4a8>"
      ]
     },
     "metadata": {},
     "output_type": "display_data"
    }
   ],
   "source": [
    "\n",
    "\n",
    "from mpl_toolkits.mplot3d import Axes3D\n",
    "fig = plt.figure()\n",
    "ax = fig.add_subplot(111, projection='3d')\n",
    "#Axes3D.scatter(x1,x2, Y_pred)\n",
    "#young box\n",
    "                       "
   ]
  },
  {
   "cell_type": "code",
   "execution_count": null,
   "metadata": {
    "collapsed": true
   },
   "outputs": [],
   "source": [
    "#Média da temperatura do dia anterior"
   ]
  },
  {
   "cell_type": "code",
   "execution_count": 359,
   "metadata": {},
   "outputs": [],
   "source": [
    "import sklearn\n",
    "from sklearn import linear_model\n",
    "\n",
    "\n",
    "reg = linear_model.Ridge (alpha = .5)\n",
    "reg.fit(X,Y) \n",
    "\n",
    "X_teste = test[['Média de Temperatura do Dia Anterior','Média de Precipitações dos Dois Dias Anteriores','Umidade Relativa Média Dia Anterior']]\n",
    "\n",
    "\n",
    "\n",
    "#previsao = reg.predict(X_teste)\n",
    "#sklearn.metrics.mean_squared_error(test['Precipitação'], previsao)  \n",
    "#reg.coef_\n",
    "#reg.intercept_ \n"
   ]
  },
  {
   "cell_type": "code",
   "execution_count": 361,
   "metadata": {},
   "outputs": [
    {
     "data": {
      "text/plain": [
       "\"from sklearn.linear_model import Lasso\\n\\nlassoReg = Lasso(alpha=0.3, normalize=True)\\n\\nlassoReg.fit(X,Y)\\n\\npred = lassoReg.predict(X_test)\\n\\n# calculating mse\\n\\nmse = np.mean((pred - test['Precipitação'])**2)\\n\\n#mse\\n\\n#1346205.82\\n\\n#lassoReg.score(x_cv,y_cv)\\n\\n#0.5720\\n\\n#pred\\nmse\""
      ]
     },
     "execution_count": 361,
     "metadata": {},
     "output_type": "execute_result"
    }
   ],
   "source": [
    "\"\"\"from sklearn.linear_model import Lasso\n",
    "\n",
    "lassoReg = Lasso(alpha=0.3, normalize=True)\n",
    "\n",
    "lassoReg.fit(X,Y)\n",
    "\n",
    "pred = lassoReg.predict(X_test)\n",
    "\n",
    "# calculating mse\n",
    "\n",
    "mse = np.mean((pred - test['Precipitação'])**2)\n",
    "\n",
    "#mse\n",
    "\n",
    "#1346205.82\n",
    "\n",
    "#lassoReg.score(x_cv,y_cv)\n",
    "\n",
    "#0.5720\n",
    "\n",
    "#pred\n",
    "mse\"\"\""
   ]
  },
  {
   "cell_type": "code",
   "execution_count": 67,
   "metadata": {},
   "outputs": [
    {
     "data": {
      "text/plain": [
       "'xfit = np.linspace(5, 40, 1000)\\nyfit = genius_regression.predict(xfit[:, np.newaxis])\\n\\nprint(genius_regression.predict(30))\\n\\nplt.scatter(lista_X, lista_Y)\\nplt.plot(xfit, yfit)'"
      ]
     },
     "execution_count": 67,
     "metadata": {},
     "output_type": "execute_result"
    }
   ],
   "source": [
    "from sklearn.linear_model import LinearRegression\n",
    "\n",
    "X = np.asarray(X)\n",
    "Y = np.asarray(Y)\n",
    "\n",
    "#genius_regression = LinearRegression()\n",
    "#genius_regression.fit(X.reshape(-1,1),Y)\n",
    "\n",
    "\"\"\"xfit = np.linspace(5, 40, 1000)\n",
    "yfit = genius_regression.predict(xfit[:, np.newaxis])\n",
    "\n",
    "print(genius_regression.predict(30))\n",
    "\n",
    "plt.scatter(lista_X, lista_Y)\n",
    "plt.plot(xfit, yfit)\"\"\"\n",
    "\n",
    "\n"
   ]
  },
  {
   "cell_type": "code",
   "execution_count": 183,
   "metadata": {},
   "outputs": [
    {
     "name": "stdout",
     "output_type": "stream",
     "text": [
      "Model slope:     0.101827580516\n",
      "Model intercept: 1.5222978017\n"
     ]
    },
    {
     "data": {
      "text/plain": [
       "[3.9967080082540654,\n",
       " 4.5363941849911633,\n",
       " 4.7196838299207435,\n",
       " 4.8826079587470375,\n",
       " 4.7705976201789602]"
      ]
     },
     "execution_count": 183,
     "metadata": {},
     "output_type": "execute_result"
    }
   ],
   "source": [
    "print(\"Model slope:    \", genius_regression.coef_[0])\n",
    "print(\"Model intercept:\", genius_regression.intercept_)\n",
    "\n",
    "X_test = np.asarray(X_test)\n",
    "y_test = np.asarray(y_test)\n",
    "\n",
    "\n",
    "list(genius_regression.predict(X_test.reshape(-1,1))[0:5])"
   ]
  },
  {
   "cell_type": "code",
   "execution_count": 186,
   "metadata": {},
   "outputs": [
    {
     "name": "stdout",
     "output_type": "stream",
     "text": [
      "181830.516233\n",
      "151.525430194\n"
     ]
    }
   ],
   "source": [
    "#Erro RSS\n",
    "\n",
    "print(((y_test - genius_regression.predict(X_test.reshape(-1,1)))**2).sum())\n",
    "\n",
    "#Erro MSE\n",
    "print(np.mean((genius_regression.predict(X_test.reshape(-1,1)) - y_test) **2))"
   ]
  },
  {
   "cell_type": "code",
   "execution_count": 89,
   "metadata": {},
   "outputs": [
    {
     "data": {
      "text/plain": [
       "array([[  2.43000000e+01,   5.90490000e+02,   1.43489070e+04],\n",
       "       [  2.96000000e+01,   8.76160000e+02,   2.59343360e+04],\n",
       "       [  3.14000000e+01,   9.85960000e+02,   3.09591440e+04],\n",
       "       ..., \n",
       "       [  2.70000000e+01,   7.29000000e+02,   1.96830000e+04],\n",
       "       [  2.30000000e+01,   5.29000000e+02,   1.21670000e+04],\n",
       "       [  2.32000000e+01,   5.38240000e+02,   1.24871680e+04]])"
      ]
     },
     "execution_count": 89,
     "metadata": {},
     "output_type": "execute_result"
    }
   ],
   "source": [
    "from sklearn.preprocessing import PolynomialFeatures\n",
    "\n",
    "poly = PolynomialFeatures(3, include_bias=False)\n",
    "poly.fit_transform(lista_X[:, None])"
   ]
  },
  {
   "cell_type": "code",
   "execution_count": 125,
   "metadata": {},
   "outputs": [
    {
     "data": {
      "text/plain": [
       "[<matplotlib.lines.Line2D at 0x202cf4c07b8>]"
      ]
     },
     "execution_count": 125,
     "metadata": {},
     "output_type": "execute_result"
    },
    {
     "data": {
      "image/png": "[encoded data removed]",
      "text/plain": [
       "<matplotlib.figure.Figure at 0x202cf4c0f60>"
      ]
     },
     "metadata": {},
     "output_type": "display_data"
    }
   ],
   "source": [
    "from sklearn.pipeline import make_pipeline\n",
    "poly_model = make_pipeline(PolynomialFeatures(3),\n",
    "                           LinearRegression())\n",
    "\n",
    "poly_model.fit(lista_X[:, np.newaxis], lista_Y)\n",
    "yfit = poly_model.predict(xfit[:, np.newaxis])\n",
    "\n",
    "plt.scatter(lista_X, lista_Y)\n",
    "plt.plot(xfit, yfit)"
   ]
  },
  {
   "cell_type": "code",
   "execution_count": 142,
   "metadata": {},
   "outputs": [
    {
     "data": {
      "text/plain": [
       "(-3, 120)"
      ]
     },
     "execution_count": 142,
     "metadata": {},
     "output_type": "execute_result"
    },
    {
     "data": {
      "image/png": "[encoded data removed]",
      "text/plain": [
       "<matplotlib.figure.Figure at 0x202cf3a3d30>"
      ]
     },
     "metadata": {},
     "output_type": "display_data"
    }
   ],
   "source": [
    "from sklearn.base import BaseEstimator, TransformerMixin\n",
    "\n",
    "class GaussianFeatures(BaseEstimator, TransformerMixin):\n",
    "    \"\"\"Uniformly spaced Gaussian features for one-dimensional input\"\"\"\n",
    "    \n",
    "    def __init__(self, N, width_factor=2.0):\n",
    "        self.N = N\n",
    "        self.width_factor = width_factor\n",
    "    \n",
    "    @staticmethod\n",
    "    def _gauss_basis(x, y, width, axis=None):\n",
    "        arg = (x - y) / width\n",
    "        return np.exp(-0.5 * np.sum(arg ** 2, axis))\n",
    "        \n",
    "    def fit(self, X, y=None):\n",
    "        # create N centers spread along the data range\n",
    "        self.centers_ = np.linspace(X.min(), X.max(), self.N)\n",
    "        self.width_ = self.width_factor * (self.centers_[1] - self.centers_[0])\n",
    "        return self\n",
    "        \n",
    "    def transform(self, X):\n",
    "        return self._gauss_basis(X[:, :, np.newaxis], self.centers_,\n",
    "                                 self.width_, axis=1)\n",
    "    \n",
    "gauss_model = make_pipeline(GaussianFeatures(30),\n",
    "                            LinearRegression())\n",
    "gauss_model.fit(lista_X[:, np.newaxis], lista_Y)\n",
    "yfit = gauss_model.predict(xfit[:, np.newaxis])\n",
    "\n",
    "plt.scatter(lista_X, lista_Y)\n",
    "plt.plot(xfit, yfit)\n",
    "plt.xlim(5, 40)\n",
    "plt.ylim(-3, 120)"
   ]
  },
  {
   "cell_type": "code",
   "execution_count": 143,
   "metadata": {},
   "outputs": [
    {
     "data": {
      "image/png": "[encoded data removed]",
      "text/plain": [
       "<matplotlib.figure.Figure at 0x202ce031d68>"
      ]
     },
     "metadata": {},
     "output_type": "display_data"
    }
   ],
   "source": [
    "def basis_plot(model, title=None):\n",
    "    fig, ax = plt.subplots(2, sharex=True)\n",
    "    model.fit(lista_X[:, np.newaxis], lista_Y)\n",
    "    ax[0].scatter(lista_X, lista_Y)\n",
    "    ax[0].plot(xfit, model.predict(xfit[:, np.newaxis]))\n",
    "    ax[0].set(xlabel='x', ylabel='y', ylim=(-3, 120))\n",
    "    \n",
    "    if title:\n",
    "        ax[0].set_title(title)\n",
    "\n",
    "    ax[1].plot(model.steps[0][1].centers_,\n",
    "               model.steps[1][1].coef_)\n",
    "    ax[1].set(xlabel='basis location',\n",
    "              ylabel='coefficient',\n",
    "              xlim=(5, 40))\n",
    "    \n",
    "model = make_pipeline(GaussianFeatures(33), LinearRegression())\n",
    "basis_plot(model)"
   ]
  },
  {
   "cell_type": "code",
   "execution_count": null,
   "metadata": {
    "collapsed": true
   },
   "outputs": [],
   "source": []
  }
 ],
 "metadata": {
  "kernelspec": {
   "display_name": "Python 3",
   "language": "python",
   "name": "python3"
  },
  "language_info": {
   "codemirror_mode": {
    "name": "ipython",
    "version": 3
   },
   "file_extension": ".py",
   "mimetype": "text/x-python",
   "name": "python",
   "nbconvert_exporter": "python",
   "pygments_lexer": "ipython3",
   "version": "3.6.1"
  }
 },
 "nbformat": 4,
 "nbformat_minor": 2
}
