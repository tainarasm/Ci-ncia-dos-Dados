{
 "cells": [
  {
   "cell_type": "markdown",
   "metadata": {},
   "source": [
    "Projeto 3 - Samara e Tainara\n",
    "\n",
    "Git Hub: www.github.com/tainarasm\n",
    "\n",
    "\n"
   ]
  },
  {
   "cell_type": "markdown",
   "metadata": {},
   "source": [
    "Professor, resolvemos trocar de data set! Agora estamos com um data set que também trata de acidentes de avião, no entanto no mundo todo e não somente no Brasil. Estamos com algumas ideias:\n",
    "\n",
    "1 - Fazer um agrupamento dos acidentes por região do mundo, de modo a observar a presença de algum padrão\n",
    "2 - Desenvolver um classificador que ajuda a prever qual é chance de ocorrer um acidente quando um avião encontra-se em determinada situação (teríamos como referência a coluna \"Summary\")\n",
    "3 - Estudar a influência da localização em que o acidente ocorre no número de mortes (seria uma regressão, acreditamos, no entanto, somente conseguimos transformar a \"localização\" em duas variáveis contínuas (Latitude e Longitude), não é possível fazer o mesmo com o número de mortes - isso inviabilizaria o projeto?)\n",
    "\n",
    "Poderia nos dar um feedback sobre o que é mais interessante desenvolver?\n",
    "\n",
    "Temos uma noção de como fazer um classificador ou uma regressão! Somente não temos de como fazer um cluster!\n",
    "\n",
    "Muito obrigada!"
   ]
  },
  {
   "cell_type": "code",
   "execution_count": 2,
   "metadata": {
    "collapsed": true
   },
   "outputs": [],
   "source": [
    "%matplotlib inline\n",
    "import pandas as pd\n",
    "import matplotlib.pyplot as plt\n",
    "import numpy as np\n",
    "import os\n"
   ]
  },
  {
   "cell_type": "code",
   "execution_count": 3,
   "metadata": {},
   "outputs": [
    {
     "name": "stdout",
     "output_type": "stream",
     "text": [
      "Esperamos trabalhar no diretório\n",
      "C:\\Users\\taina\\Ci-ncia-dos-Dados\\Projeto Final\n"
     ]
    }
   ],
   "source": [
    "print('Esperamos trabalhar no diretório')\n",
    "print(os.getcwd())"
   ]
  },
  {
   "cell_type": "code",
   "execution_count": 204,
   "metadata": {},
   "outputs": [
    {
     "data": {
      "text/html": [
       "<div>\n",
       "<style>\n",
       "    .dataframe thead tr:only-child th {\n",
       "        text-align: right;\n",
       "    }\n",
       "\n",
       "    .dataframe thead th {\n",
       "        text-align: left;\n",
       "    }\n",
       "\n",
       "    .dataframe tbody tr th {\n",
       "        vertical-align: top;\n",
       "    }\n",
       "</style>\n",
       "<table border=\"1\" class=\"dataframe\">\n",
       "  <thead>\n",
       "    <tr style=\"text-align: right;\">\n",
       "      <th></th>\n",
       "      <th></th>\n",
       "      <th>Hora</th>\n",
       "      <th>Precipitacao</th>\n",
       "      <th>TempMaxima</th>\n",
       "      <th>TempMinima</th>\n",
       "      <th>Insolacao</th>\n",
       "      <th>Umidade Relativa Media</th>\n",
       "      <th>Velocidade do Vento Media</th>\n",
       "    </tr>\n",
       "    <tr>\n",
       "      <th>Estacao</th>\n",
       "      <th>Data</th>\n",
       "      <th></th>\n",
       "      <th></th>\n",
       "      <th></th>\n",
       "      <th></th>\n",
       "      <th></th>\n",
       "      <th></th>\n",
       "      <th></th>\n",
       "    </tr>\n",
       "  </thead>\n",
       "  <tbody>\n",
       "    <tr>\n",
       "      <th rowspan=\"5\" valign=\"top\">83781</th>\n",
       "      <th>2010-01-01</th>\n",
       "      <td>1200</td>\n",
       "      <td>3.4</td>\n",
       "      <td>24.3</td>\n",
       "      <td>18.9</td>\n",
       "      <td>0.0</td>\n",
       "      <td>90.50</td>\n",
       "      <td>1.8</td>\n",
       "    </tr>\n",
       "    <tr>\n",
       "      <th>2010-01-02</th>\n",
       "      <td>1200</td>\n",
       "      <td>10.2</td>\n",
       "      <td>29.6</td>\n",
       "      <td>19.1</td>\n",
       "      <td>0.6</td>\n",
       "      <td>88.75</td>\n",
       "      <td>1.2</td>\n",
       "    </tr>\n",
       "    <tr>\n",
       "      <th>2010-01-03</th>\n",
       "      <td>1200</td>\n",
       "      <td>30.4</td>\n",
       "      <td>31.4</td>\n",
       "      <td>20.5</td>\n",
       "      <td>2.2</td>\n",
       "      <td>80.75</td>\n",
       "      <td>3133333.0</td>\n",
       "    </tr>\n",
       "    <tr>\n",
       "      <th>2010-01-04</th>\n",
       "      <td>1200</td>\n",
       "      <td>0.0</td>\n",
       "      <td>33.0</td>\n",
       "      <td>20.1</td>\n",
       "      <td>6.8</td>\n",
       "      <td>83.25</td>\n",
       "      <td>2766667.0</td>\n",
       "    </tr>\n",
       "    <tr>\n",
       "      <th>2010-01-05</th>\n",
       "      <td>1200</td>\n",
       "      <td>14.3</td>\n",
       "      <td>31.9</td>\n",
       "      <td>19.5</td>\n",
       "      <td>3.7</td>\n",
       "      <td>83.00</td>\n",
       "      <td>1133333.0</td>\n",
       "    </tr>\n",
       "  </tbody>\n",
       "</table>\n",
       "</div>"
      ],
      "text/plain": [
       "                    Hora  Precipitacao  TempMaxima  TempMinima  Insolacao  \\\n",
       "Estacao Data                                                                \n",
       "83781   2010-01-01  1200           3.4        24.3        18.9        0.0   \n",
       "        2010-01-02  1200          10.2        29.6        19.1        0.6   \n",
       "        2010-01-03  1200          30.4        31.4        20.5        2.2   \n",
       "        2010-01-04  1200           0.0        33.0        20.1        6.8   \n",
       "        2010-01-05  1200          14.3        31.9        19.5        3.7   \n",
       "\n",
       "                    Umidade Relativa Media  Velocidade do Vento Media  \n",
       "Estacao Data                                                           \n",
       "83781   2010-01-01                   90.50                        1.8  \n",
       "        2010-01-02                   88.75                        1.2  \n",
       "        2010-01-03                   80.75                  3133333.0  \n",
       "        2010-01-04                   83.25                  2766667.0  \n",
       "        2010-01-05                   83.00                  1133333.0  "
      ]
     },
     "execution_count": 204,
     "metadata": {},
     "output_type": "execute_result"
    }
   ],
   "source": [
    "tempo = pd.read_excel('meteorologia.xlsx')\n",
    "#tempo2 = pd.read_excel('franca.xlsx')\n",
    "\n",
    "#meteorologia = tempo.set_index('Data').join(tempo2.set_index('Data'), how='inner', lsuffix='_MirSantana', rsuffix='_Franca')\n",
    "\n",
    "tempo = tempo.groupby(['Estacao','Data'])\n",
    "tempo = tempo.last()\n",
    "tempo = tempo.dropna()\n",
    "\n",
    "#meteorologia\n",
    "\n",
    "tempo.head()"
   ]
  },
  {
   "cell_type": "code",
   "execution_count": 197,
   "metadata": {},
   "outputs": [],
   "source": [
    "X = []\n",
    "X_umidade = []\n",
    "Y = []\n",
    "\n",
    "\"\"\"for i in range(len(meteorologia['TempMaxima_MirSantana'])-1):\n",
    "    lista_X.append(meteorologia['TempMaxima_MirSantana'][i])\n",
    "    if len(lista_X)==len(meteorologia['TempMaxima_MirSantana'])-1:\n",
    "        for i in range(len(meteorologia['TempMaxima_Franca'])-1):\n",
    "            lista_X.append(meteorologia['TempMaxima_Franca'][i])\n",
    "            \n",
    "\n",
    "for l in range(1,len(meteorologia['Precipitacao_MirSantana'])):\n",
    "    lista_Y.append(meteorologia['Precipitacao_MirSantana'][l])\n",
    "    if len(lista_Y)==len(meteorologia['Precipitacao_MirSantana'])-1:\n",
    "        for j in range(len(meteorologia['Precipitacao_Franca'])-1):\n",
    "            lista_Y.append(meteorologia['Precipitacao_Franca'][j])\"\"\"\n",
    "            \n",
    "            \n",
    "\n",
    "for i in range(len(tempo['TempMaxima'])-1):\n",
    "    X.append(tempo['TempMaxima'][i])\n",
    "    X_umidade.append(tempo['Umidade Relativa Media'][i])\n",
    "        \n",
    "    \n",
    "for l in range(1,len(tempo['Precipitacao'])):\n",
    "    Y.append(tempo['Precipitacao'][l])\n",
    "    \n",
    "    \n",
    "    \n",
    "X_test = X[0:1200]\n",
    "X_umidade_test = X_umidade[0:1200]\n",
    "y_test = Y[0:1200]\n",
    "\n",
    "lista_X = X[1200:]\n",
    "lista_X_umidade = X_umidade[1200:0]\n",
    "lista_Y = Y[1200:]\n",
    "    \n",
    "\n",
    "#plt.scatter([lista_X,X_umidade],lista_Y)\n"
   ]
  },
  {
   "cell_type": "code",
   "execution_count": 208,
   "metadata": {},
   "outputs": [
    {
     "data": {
      "text/html": [
       "<table class=\"simpletable\">\n",
       "<caption>OLS Regression Results</caption>\n",
       "<tr>\n",
       "  <th>Dep. Variable:</th>      <td>Precipitacao</td>   <th>  R-squared:         </th> <td>   0.098</td> \n",
       "</tr>\n",
       "<tr>\n",
       "  <th>Model:</th>                   <td>OLS</td>       <th>  Adj. R-squared:    </th> <td>   0.097</td> \n",
       "</tr>\n",
       "<tr>\n",
       "  <th>Method:</th>             <td>Least Squares</td>  <th>  F-statistic:       </th> <td>   99.58</td> \n",
       "</tr>\n",
       "<tr>\n",
       "  <th>Date:</th>             <td>Sun, 12 Nov 2017</td> <th>  Prob (F-statistic):</th> <td>3.51e-61</td> \n",
       "</tr>\n",
       "<tr>\n",
       "  <th>Time:</th>                 <td>20:22:19</td>     <th>  Log-Likelihood:    </th> <td> -10534.</td> \n",
       "</tr>\n",
       "<tr>\n",
       "  <th>No. Observations:</th>      <td>  2746</td>      <th>  AIC:               </th> <td>2.108e+04</td>\n",
       "</tr>\n",
       "<tr>\n",
       "  <th>Df Residuals:</th>          <td>  2742</td>      <th>  BIC:               </th> <td>2.110e+04</td>\n",
       "</tr>\n",
       "<tr>\n",
       "  <th>Df Model:</th>              <td>     3</td>      <th>                     </th>     <td> </td>    \n",
       "</tr>\n",
       "<tr>\n",
       "  <th>Covariance Type:</th>      <td>nonrobust</td>    <th>                     </th>     <td> </td>    \n",
       "</tr>\n",
       "</table>\n",
       "<table class=\"simpletable\">\n",
       "<tr>\n",
       "             <td></td>               <th>coef</th>     <th>std err</th>      <th>t</th>      <th>P>|t|</th>  <th>[0.025</th>    <th>0.975]</th>  \n",
       "</tr>\n",
       "<tr>\n",
       "  <th>const</th>                  <td>  -25.7410</td> <td>    2.823</td> <td>   -9.118</td> <td> 0.000</td> <td>  -31.276</td> <td>  -20.206</td>\n",
       "</tr>\n",
       "<tr>\n",
       "  <th>TempMinima</th>             <td>    0.4435</td> <td>    0.104</td> <td>    4.259</td> <td> 0.000</td> <td>    0.239</td> <td>    0.648</td>\n",
       "</tr>\n",
       "<tr>\n",
       "  <th>TempMaxima</th>             <td>    0.0647</td> <td>    0.090</td> <td>    0.720</td> <td> 0.472</td> <td>   -0.112</td> <td>    0.241</td>\n",
       "</tr>\n",
       "<tr>\n",
       "  <th>Umidade Relativa Media</th> <td>    0.2921</td> <td>    0.024</td> <td>   11.998</td> <td> 0.000</td> <td>    0.244</td> <td>    0.340</td>\n",
       "</tr>\n",
       "</table>\n",
       "<table class=\"simpletable\">\n",
       "<tr>\n",
       "  <th>Omnibus:</th>       <td>2302.079</td> <th>  Durbin-Watson:     </th> <td>   1.780</td> \n",
       "</tr>\n",
       "<tr>\n",
       "  <th>Prob(Omnibus):</th>  <td> 0.000</td>  <th>  Jarque-Bera (JB):  </th> <td>60777.373</td>\n",
       "</tr>\n",
       "<tr>\n",
       "  <th>Skew:</th>           <td> 3.930</td>  <th>  Prob(JB):          </th> <td>    0.00</td> \n",
       "</tr>\n",
       "<tr>\n",
       "  <th>Kurtosis:</th>       <td>24.666</td>  <th>  Cond. No.          </th> <td>1.05e+03</td> \n",
       "</tr>\n",
       "</table>"
      ],
      "text/plain": [
       "<class 'statsmodels.iolib.summary.Summary'>\n",
       "\"\"\"\n",
       "                            OLS Regression Results                            \n",
       "==============================================================================\n",
       "Dep. Variable:           Precipitacao   R-squared:                       0.098\n",
       "Model:                            OLS   Adj. R-squared:                  0.097\n",
       "Method:                 Least Squares   F-statistic:                     99.58\n",
       "Date:                Sun, 12 Nov 2017   Prob (F-statistic):           3.51e-61\n",
       "Time:                        20:22:19   Log-Likelihood:                -10534.\n",
       "No. Observations:                2746   AIC:                         2.108e+04\n",
       "Df Residuals:                    2742   BIC:                         2.110e+04\n",
       "Df Model:                           3                                         \n",
       "Covariance Type:            nonrobust                                         \n",
       "==========================================================================================\n",
       "                             coef    std err          t      P>|t|      [0.025      0.975]\n",
       "------------------------------------------------------------------------------------------\n",
       "const                    -25.7410      2.823     -9.118      0.000     -31.276     -20.206\n",
       "TempMinima                 0.4435      0.104      4.259      0.000       0.239       0.648\n",
       "TempMaxima                 0.0647      0.090      0.720      0.472      -0.112       0.241\n",
       "Umidade Relativa Media     0.2921      0.024     11.998      0.000       0.244       0.340\n",
       "==============================================================================\n",
       "Omnibus:                     2302.079   Durbin-Watson:                   1.780\n",
       "Prob(Omnibus):                  0.000   Jarque-Bera (JB):            60777.373\n",
       "Skew:                           3.930   Prob(JB):                         0.00\n",
       "Kurtosis:                      24.666   Cond. No.                     1.05e+03\n",
       "==============================================================================\n",
       "\n",
       "Warnings:\n",
       "[1] Standard Errors assume that the covariance matrix of the errors is correctly specified.\n",
       "[2] The condition number is large, 1.05e+03. This might indicate that there are\n",
       "strong multicollinearity or other numerical problems.\n",
       "\"\"\""
      ]
     },
     "execution_count": 208,
     "metadata": {},
     "output_type": "execute_result"
    }
   ],
   "source": [
    "import numpy as np\n",
    "import statsmodels.api as sm\n",
    "\n",
    "\n",
    "lista_X = np.asarray(lista_X)\n",
    "lista_Y = np.asarray(lista_Y)\n",
    "\n",
    "Y = tempo['Precipitacao']\n",
    "X = tempo[[\"TempMinima\",\"TempMaxima\",\"Umidade Relativa Media\"]]\n",
    "#Y = lista_Y\n",
    "#X = [[lista_X,lista_X_umidade]]\n",
    "X = sm.add_constant(X)\n",
    "model = sm.OLS(Y,X)\n",
    "results = model.fit()\n",
    "results.summary()"
   ]
  },
  {
   "cell_type": "code",
   "execution_count": 209,
   "metadata": {},
   "outputs": [
    {
     "name": "stdout",
     "output_type": "stream",
     "text": [
      "[ 4.57712522]\n"
     ]
    },
    {
     "data": {
      "text/plain": [
       "[<matplotlib.lines.Line2D at 0x202d05b4dd8>]"
      ]
     },
     "execution_count": 209,
     "metadata": {},
     "output_type": "execute_result"
    },
    {
     "data": {
      "image/png": "[encoded data removed]",
      "text/plain": [
       "<matplotlib.figure.Figure at 0x202d04a6dd8>"
      ]
     },
     "metadata": {},
     "output_type": "display_data"
    }
   ],
   "source": [
    "from sklearn.linear_model import LinearRegression\n",
    "\n",
    "lista_X = np.asarray(lista_X)\n",
    "lista_Y = np.asarray(lista_Y)\n",
    "\n",
    "genius_regression = LinearRegression()\n",
    "genius_regression.fit(lista_X.reshape(-1,1),lista_Y)\n",
    "\n",
    "xfit = np.linspace(5, 40, 1000)\n",
    "yfit = genius_regression.predict(xfit[:, np.newaxis])\n",
    "\n",
    "print(genius_regression.predict(30))\n",
    "\n",
    "plt.scatter(lista_X, lista_Y)\n",
    "plt.plot(xfit, yfit)\n",
    "\n",
    "\n"
   ]
  },
  {
   "cell_type": "code",
   "execution_count": 183,
   "metadata": {},
   "outputs": [
    {
     "name": "stdout",
     "output_type": "stream",
     "text": [
      "Model slope:     0.101827580516\n",
      "Model intercept: 1.5222978017\n"
     ]
    },
    {
     "data": {
      "text/plain": [
       "[3.9967080082540654,\n",
       " 4.5363941849911633,\n",
       " 4.7196838299207435,\n",
       " 4.8826079587470375,\n",
       " 4.7705976201789602]"
      ]
     },
     "execution_count": 183,
     "metadata": {},
     "output_type": "execute_result"
    }
   ],
   "source": [
    "print(\"Model slope:    \", genius_regression.coef_[0])\n",
    "print(\"Model intercept:\", genius_regression.intercept_)\n",
    "\n",
    "X_test = np.asarray(X_test)\n",
    "y_test = np.asarray(y_test)\n",
    "\n",
    "\n",
    "list(genius_regression.predict(X_test.reshape(-1,1))[0:5])"
   ]
  },
  {
   "cell_type": "code",
   "execution_count": 186,
   "metadata": {},
   "outputs": [
    {
     "name": "stdout",
     "output_type": "stream",
     "text": [
      "181830.516233\n",
      "151.525430194\n"
     ]
    }
   ],
   "source": [
    "#Erro RSS\n",
    "\n",
    "print(((y_test - genius_regression.predict(X_test.reshape(-1,1)))**2).sum())\n",
    "\n",
    "#Erro MSE\n",
    "print(np.mean((genius_regression.predict(X_test.reshape(-1,1)) - y_test) **2))"
   ]
  },
  {
   "cell_type": "code",
   "execution_count": 89,
   "metadata": {},
   "outputs": [
    {
     "data": {
      "text/plain": [
       "array([[  2.43000000e+01,   5.90490000e+02,   1.43489070e+04],\n",
       "       [  2.96000000e+01,   8.76160000e+02,   2.59343360e+04],\n",
       "       [  3.14000000e+01,   9.85960000e+02,   3.09591440e+04],\n",
       "       ..., \n",
       "       [  2.70000000e+01,   7.29000000e+02,   1.96830000e+04],\n",
       "       [  2.30000000e+01,   5.29000000e+02,   1.21670000e+04],\n",
       "       [  2.32000000e+01,   5.38240000e+02,   1.24871680e+04]])"
      ]
     },
     "execution_count": 89,
     "metadata": {},
     "output_type": "execute_result"
    }
   ],
   "source": [
    "from sklearn.preprocessing import PolynomialFeatures\n",
    "\n",
    "poly = PolynomialFeatures(3, include_bias=False)\n",
    "poly.fit_transform(lista_X[:, None])"
   ]
  },
  {
   "cell_type": "code",
   "execution_count": 125,
   "metadata": {},
   "outputs": [
    {
     "data": {
      "text/plain": [
       "[<matplotlib.lines.Line2D at 0x202cf4c07b8>]"
      ]
     },
     "execution_count": 125,
     "metadata": {},
     "output_type": "execute_result"
    },
    {
     "data": {
      "image/png": "[encoded data removed]",
      "text/plain": [
       "<matplotlib.figure.Figure at 0x202cf4c0f60>"
      ]
     },
     "metadata": {},
     "output_type": "display_data"
    }
   ],
   "source": [
    "from sklearn.pipeline import make_pipeline\n",
    "poly_model = make_pipeline(PolynomialFeatures(3),\n",
    "                           LinearRegression())\n",
    "\n",
    "poly_model.fit(lista_X[:, np.newaxis], lista_Y)\n",
    "yfit = poly_model.predict(xfit[:, np.newaxis])\n",
    "\n",
    "plt.scatter(lista_X, lista_Y)\n",
    "plt.plot(xfit, yfit)"
   ]
  },
  {
   "cell_type": "code",
   "execution_count": 142,
   "metadata": {},
   "outputs": [
    {
     "data": {
      "text/plain": [
       "(-3, 120)"
      ]
     },
     "execution_count": 142,
     "metadata": {},
     "output_type": "execute_result"
    },
    {
     "data": {
      "image/png": "[encoded data removed]",
      "text/plain": [
       "<matplotlib.figure.Figure at 0x202cf3a3d30>"
      ]
     },
     "metadata": {},
     "output_type": "display_data"
    }
   ],
   "source": [
    "from sklearn.base import BaseEstimator, TransformerMixin\n",
    "\n",
    "class GaussianFeatures(BaseEstimator, TransformerMixin):\n",
    "    \"\"\"Uniformly spaced Gaussian features for one-dimensional input\"\"\"\n",
    "    \n",
    "    def __init__(self, N, width_factor=2.0):\n",
    "        self.N = N\n",
    "        self.width_factor = width_factor\n",
    "    \n",
    "    @staticmethod\n",
    "    def _gauss_basis(x, y, width, axis=None):\n",
    "        arg = (x - y) / width\n",
    "        return np.exp(-0.5 * np.sum(arg ** 2, axis))\n",
    "        \n",
    "    def fit(self, X, y=None):\n",
    "        # create N centers spread along the data range\n",
    "        self.centers_ = np.linspace(X.min(), X.max(), self.N)\n",
    "        self.width_ = self.width_factor * (self.centers_[1] - self.centers_[0])\n",
    "        return self\n",
    "        \n",
    "    def transform(self, X):\n",
    "        return self._gauss_basis(X[:, :, np.newaxis], self.centers_,\n",
    "                                 self.width_, axis=1)\n",
    "    \n",
    "gauss_model = make_pipeline(GaussianFeatures(30),\n",
    "                            LinearRegression())\n",
    "gauss_model.fit(lista_X[:, np.newaxis], lista_Y)\n",
    "yfit = gauss_model.predict(xfit[:, np.newaxis])\n",
    "\n",
    "plt.scatter(lista_X, lista_Y)\n",
    "plt.plot(xfit, yfit)\n",
    "plt.xlim(5, 40)\n",
    "plt.ylim(-3, 120)"
   ]
  },
  {
   "cell_type": "code",
   "execution_count": 143,
   "metadata": {},
   "outputs": [
    {
     "data": {
      "image/png": "[encoded data removed]",
      "text/plain": [
       "<matplotlib.figure.Figure at 0x202ce031d68>"
      ]
     },
     "metadata": {},
     "output_type": "display_data"
    }
   ],
   "source": [
    "def basis_plot(model, title=None):\n",
    "    fig, ax = plt.subplots(2, sharex=True)\n",
    "    model.fit(lista_X[:, np.newaxis], lista_Y)\n",
    "    ax[0].scatter(lista_X, lista_Y)\n",
    "    ax[0].plot(xfit, model.predict(xfit[:, np.newaxis]))\n",
    "    ax[0].set(xlabel='x', ylabel='y', ylim=(-3, 120))\n",
    "    \n",
    "    if title:\n",
    "        ax[0].set_title(title)\n",
    "\n",
    "    ax[1].plot(model.steps[0][1].centers_,\n",
    "               model.steps[1][1].coef_)\n",
    "    ax[1].set(xlabel='basis location',\n",
    "              ylabel='coefficient',\n",
    "              xlim=(5, 40))\n",
    "    \n",
    "model = make_pipeline(GaussianFeatures(33), LinearRegression())\n",
    "basis_plot(model)"
   ]
  },
  {
   "cell_type": "code",
   "execution_count": null,
   "metadata": {
    "collapsed": true
   },
   "outputs": [],
   "source": []
  }
 ],
 "metadata": {
  "kernelspec": {
   "display_name": "Python 3",
   "language": "python",
   "name": "python3"
  },
  "language_info": {
   "codemirror_mode": {
    "name": "ipython",
    "version": 3
   },
   "file_extension": ".py",
   "mimetype": "text/x-python",
   "name": "python",
   "nbconvert_exporter": "python",
   "pygments_lexer": "ipython3",
   "version": "3.6.1"
  }
 },
 "nbformat": 4,
 "nbformat_minor": 2
}
