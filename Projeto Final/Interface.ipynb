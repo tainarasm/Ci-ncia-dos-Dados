{
 "cells": [
  {
   "cell_type": "code",
   "execution_count": 1,
   "metadata": {
    "collapsed": true
   },
   "outputs": [],
   "source": [
    "def Previsaodotempo(Tmax,Tmin,Umi):\n",
    "    if Tmax > Tmin:\n",
    "        return True\n",
    "    else:\n",
    "        return False"
   ]
  },
  {
   "cell_type": "code",
   "execution_count": 2,
   "metadata": {},
   "outputs": [],
   "source": [
    "import tkinter as Tkinter\n",
    "import random\n",
    " \n",
    "class minhaApp_tk(Tkinter.Tk):\n",
    "\n",
    "    def __init__(self,parent):\n",
    "        Tkinter.Tk.__init__(self,parent)\n",
    "        self.parent = parent\n",
    "        self.initialize()\n",
    "        \n",
    "         \n",
    "         \n",
    "    def initialize(self):     \n",
    "        self.grid()            \n",
    "        \n",
    "        self.instruLabel = Tkinter.Label(self,text=\"Insira os dados abaixo para descobrir se choverá amanhã\", height = 2, font=(\"Helvetica\", 10))\n",
    "        self.instruLabel.grid(columnspan=3,column=0,row=0,sticky='EW') \n",
    "\n",
    "        \n",
    "        self.lblC= Tkinter.Label(self, text=\"Temperatura Máxima\")     \n",
    "        self.lblC.grid(column=0, row=1)              \n",
    "         \n",
    "        self.lblSep= Tkinter.Label(self, text=\"Temperatura Mínima\")     \n",
    "        self.lblSep.grid(column=1, row=1)               \n",
    " \n",
    " \n",
    "        self.lblF= Tkinter.Label(self, text=\"Média de Umidade entre ontem e hoje\")     \n",
    "        self.lblF.grid(column=2, row=1)               \n",
    " \n",
    "        self.entrymax = Tkinter.Entry(self)           \n",
    "        self.entrymax.grid(column=0,row=2,sticky='EW')\n",
    "        \n",
    "        self.entrymin = Tkinter.Entry(self)           \n",
    "        self.entrymin.grid(column=1,row=2,sticky='EW')\n",
    " \n",
    "        self.entryumi = Tkinter.Entry(self)           \n",
    "        self.entryumi.grid(column=2,row=2,sticky='EW')\n",
    " \n",
    " \n",
    " \n",
    "        self.btnCalculaF = Tkinter.Button(self,text=u\"Prever o tempo\",command=self.OnButtonCalculaChuva)  \n",
    "                                                                   \n",
    "        self.btnCalculaF.grid(column=1,row=3) \n",
    "        \n",
    "        self.resuLabel = Tkinter.Label(self,text=\" \", height = 2, font=(\"Helvetica\", 28))\n",
    "        self.resuLabel.grid(columnspan=3,column=0,row=5,sticky='EW') \n",
    "\n",
    "    def OnButtonCalculaChuva(self):     \n",
    "        Tmax= float(self.entrymax.get())\n",
    "        Tmin= float(self.entrymin.get()) \n",
    "        Umi= float(self.entryumi.get())  \n",
    "        resultado = Previsaodotempo(Tmax,Tmin,Umi)\n",
    "        if resultado == True:\n",
    "            resultado = 'VAI CHOVER'\n",
    "        else:\n",
    "            resultado = 'NÃO VAI CHOVER'\n",
    "        self.resuLabel.config(text=resultado)\n",
    " \n",
    "\n",
    "\n",
    "if __name__ == \"__main__\":\n",
    "    app = minhaApp_tk(None)     \n",
    "    app.title('Choverá amanha?')\n",
    "    app.mainloop()              "
   ]
  },
  {
   "cell_type": "code",
   "execution_count": null,
   "metadata": {
    "collapsed": true
   },
   "outputs": [],
   "source": []
  }
 ],
 "metadata": {
  "kernelspec": {
   "display_name": "Python 3",
   "language": "python",
   "name": "python3"
  },
  "language_info": {
   "codemirror_mode": {
    "name": "ipython",
    "version": 3
   },
   "file_extension": ".py",
   "mimetype": "text/x-python",
   "name": "python",
   "nbconvert_exporter": "python",
   "pygments_lexer": "ipython3",
   "version": "3.6.1"
  }
 },
 "nbformat": 4,
 "nbformat_minor": 2
}
