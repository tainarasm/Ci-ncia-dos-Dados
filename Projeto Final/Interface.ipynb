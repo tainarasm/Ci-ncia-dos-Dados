{
 "cells": [
  {
   "cell_type": "code",
   "execution_count": 1,
   "metadata": {},
   "outputs": [
    {
     "name": "stderr",
     "output_type": "stream",
     "text": [
      "C:\\Users\\marco\\Anaconda3\\lib\\site-packages\\statsmodels\\compat\\pandas.py:56: FutureWarning: The pandas.core.datetools module is deprecated and will be removed in a future version. Please use the pandas.tseries module instead.\n",
      "  from pandas.core import datetools\n"
     ]
    }
   ],
   "source": [
    "%matplotlib notebook\n",
    "import pandas as pd\n",
    "import matplotlib.pyplot as plt\n",
    "import numpy as np\n",
    "import os\n",
    "import sklearn\n",
    "import statsmodels.api as sm\n",
    "from sklearn import linear_model\n",
    "from sklearn.linear_model import Lasso"
   ]
  },
  {
   "cell_type": "code",
   "execution_count": 3,
   "metadata": {
    "collapsed": true
   },
   "outputs": [],
   "source": [
    "tempo = pd.read_excel('meteorologia.xlsx')\n",
    "\n",
    "tempo = tempo.groupby(['Estacao','Data'])\n",
    "tempo = tempo.last()\n",
    "tempo = tempo.dropna()\n",
    "#tempo.head()\n"
   ]
  },
  {
   "cell_type": "code",
   "execution_count": 4,
   "metadata": {},
   "outputs": [],
   "source": [
    "train = pd.DataFrame({'Hora': tempo['Hora'][:1500],\n",
    "                      'Precipitação': tempo['Precipitacao'][:1500],\n",
    "                      'Temperatura Mínima': tempo['TempMinima'][:1500],\n",
    "                      'Temperatura Máxima': tempo['TempMaxima'][:1500],\n",
    "                      'Insolação': tempo['Insolacao'][:1500],\n",
    "                      'Umidade Relativa Média': tempo['Umidade Relativa Media'][:1500],\n",
    "                      'Velocidade do Vento Média': tempo['Velocidade do Vento Media'][:1500]})\n",
    "\n",
    "test = pd.DataFrame({ 'Hora': tempo['Hora'][1500:],\n",
    "                      'Precipitação': tempo['Precipitacao'][1500:],\n",
    "                      'Temperatura Mínima': tempo['TempMinima'][1500:],\n",
    "                      'Temperatura Máxima': tempo['TempMaxima'][1500:],\n",
    "                      'Insolação': tempo['Insolacao'][1500:],\n",
    "                      'Umidade Relativa Média': tempo['Umidade Relativa Media'][1500:],\n",
    "                      'Velocidade do Vento Média': tempo['Velocidade do Vento Media'][1500:]})"
   ]
  },
  {
   "cell_type": "code",
   "execution_count": 5,
   "metadata": {
    "collapsed": true
   },
   "outputs": [],
   "source": [
    "log = []\n",
    "\n",
    "\n",
    "for i in range(len(tempo['Precipitacao'])):\n",
    "    if tempo['Precipitacao'][i]==0:\n",
    "        log.append(tempo['Precipitacao'][i])\n",
    "    else:\n",
    "        log.append(np.log(tempo['Precipitacao'][i]))\n",
    "\n",
    "\n",
    "\n",
    "X_temp_media_dia_anterior = []\n",
    "media_umidade = []\n",
    "            \n",
    "\n",
    "for i in range(1,len(tempo['TempMaxima'])):\n",
    "    X_temp_media_dia_anterior.append((tempo['TempMinima'][i]+tempo['TempMaxima'][i])/2)\n",
    "    media_umidade.append((tempo['Umidade Relativa Media'][i]+tempo['Umidade Relativa Media'][i-1])/2)\n",
    "\n",
    "\n",
    "train = pd.DataFrame({'Hora': tempo['Hora'][2:1500],\n",
    "                      'Precipitação': tempo['Precipitacao'][2:1500],\n",
    "                      'Log_Precipitacao': log[2:1500],\n",
    "                      'Temperatura Mínima': tempo['TempMinima'][2:1500],\n",
    "                      'Temperatura Máxima': tempo['TempMaxima'][2:1500],\n",
    "                      'Temperatura Média do Dia Anterior': X_temp_media_dia_anterior[0:1498],\n",
    "                      'Insolação': tempo['Insolacao'][2:1500],\n",
    "                      'Umidade Relativa Média': tempo['Umidade Relativa Media'][2:1500],\n",
    "                      'Média de Umidade de Dois Dias Anteriores': media_umidade[0:1498],\n",
    "                      'Velocidade do Vento Média': tempo['Velocidade do Vento Media'][2:1500]})\n",
    "\n",
    "test = pd.DataFrame({ 'Hora': tempo['Hora'][1500:2745],\n",
    "                      'Precipitação': tempo['Precipitacao'][1500:2745],\n",
    "                      'Log_Precipitacao': log[1500:2745],\n",
    "                      'Temperatura Mínima': tempo['TempMinima'][1500:2745],\n",
    "                      'Temperatura Máxima': tempo['TempMaxima'][1500:2745],\n",
    "                      'Temperatura Média do Dia Anterior': X_temp_media_dia_anterior[1498:2743],\n",
    "                      'Insolação': tempo['Insolacao'][1500:2745],\n",
    "                      'Umidade Relativa Média': tempo['Umidade Relativa Media'][1500:2745],\n",
    "                      'Média de Umidade de Dois Dias Anteriores': media_umidade[1498:2743],\n",
    "                      'Velocidade do Vento Média': tempo['Velocidade do Vento Media'][1500:2745]})\n",
    "    "
   ]
  },
  {
   "cell_type": "code",
   "execution_count": 7,
   "metadata": {
    "collapsed": true
   },
   "outputs": [],
   "source": [
    "Y = train['Log_Precipitacao']\n",
    "\n",
    "\n",
    "X = train[['Temperatura Média do Dia Anterior', 'Média de Umidade de Dois Dias Anteriores']]\n",
    "X_teste = test[['Temperatura Média do Dia Anterior', 'Média de Umidade de Dois Dias Anteriores']]\n",
    "X = sm.add_constant(X)\n",
    "model = sm.OLS(Y,X)\n",
    "results = model.fit()"
   ]
  },
  {
   "cell_type": "code",
   "execution_count": null,
   "metadata": {},
   "outputs": [],
   "source": []
  },
  {
   "cell_type": "code",
   "execution_count": 9,
   "metadata": {
    "collapsed": true
   },
   "outputs": [],
   "source": [
    "def Previsaodotempo(Tmax,Tmin,Umi):\n",
    "    Tmed = (Tmax+Tmin)/2\n",
    "    \n",
    "    Umidadesp=[(52+96)/2,(100+57)/2,Umi]\n",
    "    Tempsp=[27+20/2,(27+29)/2,Tmed]\n",
    "    \n",
    "    Y = train['Log_Precipitacao']\n",
    "\n",
    "\n",
    "    X = train[['Temperatura Média do Dia Anterior', 'Média de Umidade de Dois Dias Anteriores']]\n",
    "    X_teste = test[['Temperatura Média do Dia Anterior', 'Média de Umidade de Dois Dias Anteriores']]\n",
    "    X = sm.add_constant(X)\n",
    "    model = sm.OLS(Y,X)\n",
    "    results = model.fit()\n",
    "\n",
    "    xinho = pd.DataFrame({'Tmda':Tempsp,'MUdd':Umidadesp})\n",
    "    #print(xinho)\n",
    "    new_x = xinho[['Tmda','MUdd']]\n",
    "    new_x = sm.add_constant(new_x)\n",
    "    y_predict = results.predict(new_x)\n",
    "    \n",
    "    print(y_predict)\n",
    "    \n",
    "    if y_predict[2] > 0:\n",
    "        return True\n",
    "    else:\n",
    "        return False"
   ]
  },
  {
   "cell_type": "code",
   "execution_count": 10,
   "metadata": {},
   "outputs": [
    {
     "name": "stdout",
     "output_type": "stream",
     "text": [
      "0    2.238786\n",
      "1    1.526174\n",
      "2   -3.288372\n",
      "dtype: float64\n"
     ]
    }
   ],
   "source": [
    "import tkinter as Tkinter\n",
    "import random\n",
    " \n",
    "class minhaApp_tk(Tkinter.Tk):\n",
    "\n",
    "    def __init__(self,parent):\n",
    "        Tkinter.Tk.__init__(self,parent)\n",
    "        self.parent = parent\n",
    "        self.initialize()\n",
    "        \n",
    "         \n",
    "         \n",
    "    def initialize(self):     \n",
    "        self.grid()            \n",
    "        \n",
    "        self.instruLabel = Tkinter.Label(self,text=\"Insira os dados abaixo para descobrir se choverá amanhã\", height = 2, font=(\"Helvetica\", 10))\n",
    "        self.instruLabel.grid(columnspan=3,column=0,row=0,sticky='EW') \n",
    "\n",
    "        \n",
    "        self.lblC= Tkinter.Label(self, text=\"Temperatura Máxima\")     \n",
    "        self.lblC.grid(column=0, row=1)              \n",
    "         \n",
    "        self.lblSep= Tkinter.Label(self, text=\"Temperatura Mínima\")     \n",
    "        self.lblSep.grid(column=1, row=1)               \n",
    " \n",
    " \n",
    "        self.lblF= Tkinter.Label(self, text=\"Média de Umidade entre ontem e hoje\")     \n",
    "        self.lblF.grid(column=2, row=1)               \n",
    " \n",
    "        self.entrymax = Tkinter.Entry(self)           \n",
    "        self.entrymax.grid(column=0,row=2,sticky='EW')\n",
    "        \n",
    "        self.entrymin = Tkinter.Entry(self)           \n",
    "        self.entrymin.grid(column=1,row=2,sticky='EW')\n",
    " \n",
    "        self.entryumi = Tkinter.Entry(self)           \n",
    "        self.entryumi.grid(column=2,row=2,sticky='EW')\n",
    " \n",
    " \n",
    " \n",
    "        self.btnCalculaF = Tkinter.Button(self,text=u\"Prever o tempo\",command=self.OnButtonCalculaChuva)  \n",
    "                                                                   \n",
    "        self.btnCalculaF.grid(column=1,row=3) \n",
    "        \n",
    "        self.resuLabel = Tkinter.Label(self,text=\" \", height = 2, font=(\"Helvetica\", 28))\n",
    "        self.resuLabel.grid(columnspan=3,column=0,row=5,sticky='EW') \n",
    "\n",
    "    def OnButtonCalculaChuva(self):     \n",
    "        Tmax= float(self.entrymax.get())\n",
    "        Tmin= float(self.entrymin.get()) \n",
    "        Umi= float(self.entryumi.get())  \n",
    "        resultado = Previsaodotempo(Tmax,Tmin,Umi)\n",
    "        if resultado == True:\n",
    "            resultado = 'VAI CHOVER'\n",
    "        else:\n",
    "            resultado = 'NÃO VAI CHOVER'\n",
    "        self.resuLabel.config(text=resultado)\n",
    " \n",
    "\n",
    "\n",
    "if __name__ == \"__main__\":\n",
    "    app = minhaApp_tk(None)     \n",
    "    app.title('Choverá amanha?')\n",
    "    app.mainloop()              "
   ]
  },
  {
   "cell_type": "code",
   "execution_count": null,
   "metadata": {
    "collapsed": true
   },
   "outputs": [],
   "source": []
  }
 ],
 "metadata": {
  "kernelspec": {
   "display_name": "Python 3",
   "language": "python",
   "name": "python3"
  },
  "language_info": {
   "codemirror_mode": {
    "name": "ipython",
    "version": 3
   },
   "file_extension": ".py",
   "mimetype": "text/x-python",
   "name": "python",
   "nbconvert_exporter": "python",
   "pygments_lexer": "ipython3",
   "version": "3.6.1"
  }
 },
 "nbformat": 4,
 "nbformat_minor": 2
}
