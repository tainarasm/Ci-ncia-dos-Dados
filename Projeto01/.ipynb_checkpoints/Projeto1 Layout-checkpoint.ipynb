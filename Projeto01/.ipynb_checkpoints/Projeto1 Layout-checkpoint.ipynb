{
 "cells": [
  {
   "cell_type": "markdown",
   "metadata": {},
   "source": [
    "___\n",
    "# Ciência dos Dados - PROJETO 1"
   ]
  },
  {
   "cell_type": "markdown",
   "metadata": {},
   "source": [
    "## COLOQUE AQUI SEU NOME\n",
    "\n",
    "Tainara Soares Mendes"
   ]
  },
  {
   "cell_type": "markdown",
   "metadata": {},
   "source": [
    "## TÍTULO DO SEU PROJETO"
   ]
  },
  {
   "cell_type": "markdown",
   "metadata": {},
   "source": [
    "___\n",
    "## Introdução\n",
    "\n",
    "Descreva aqui o que pretende analisar!\n",
    "\n",
    "Capriche no português!! \n",
    "Se quiser pode utilizar pesquisas semelhantes publicadas em sites confiáveis!!\n",
    "\n",
    "\n",
    "Ao desenvolver o presente projeto, objetivo analisar se a desinformação, na medida em que impede as populações carentes de tomarem ciência acerca dos programas sociais mantidos pelo governo, pode ser considerada um fator determinante na perpetuação da pobreza no Brasil. É perceptível, portanto, que escolhi o viés do acesso à Internet e TV para desenvolver o meu projeto. No entanto, quando abordo a questão da perpetuação da pobreza, a qual está diretamente relacionada com a questão da segurança alimentar, subentende-se que o meu projeto flutua entre ambos os temas dados, estando diretamente relacionado ao acesso à Internet e TV e indiretamente relacionado à seguridade alimentar.\n"
   ]
  },
  {
   "cell_type": "markdown",
   "metadata": {},
   "source": [
    "___\n",
    "## Análise e Resultados"
   ]
  },
  {
   "cell_type": "code",
   "execution_count": 53,
   "metadata": {
    "collapsed": true
   },
   "outputs": [],
   "source": [
    "%matplotlib inline\n",
    "import pandas as pd\n",
    "import matplotlib.pyplot as plt\n",
    "import numpy as np\n",
    "import os\n",
    "import seaborn as sns\n",
    "sns.set(style=\"whitegrid\")"
   ]
  },
  {
   "cell_type": "code",
   "execution_count": 54,
   "metadata": {},
   "outputs": [
    {
     "name": "stdout",
     "output_type": "stream",
     "text": [
      "Esperamos trabalhar no diretório\n",
      "C:\\Users\\taina\\Documents\\ciência_dos_dados\n"
     ]
    }
   ],
   "source": [
    "print('Esperamos trabalhar no diretório')\n",
    "print(os.getcwd())"
   ]
  },
  {
   "cell_type": "code",
   "execution_count": 55,
   "metadata": {
    "collapsed": true
   },
   "outputs": [],
   "source": [
    "data = pd.read_table('DOM2014.csv', encoding=\"Windows-1252\",sep=\",\")"
   ]
  },
  {
   "cell_type": "markdown",
   "metadata": {},
   "source": [
    "Primeiramente, para tornar a minha pesquisa mais restrita, analisarei qual é a região ou conjunto de regiões mais pobre do Brasil, para, posteriormente, filtrar os meus dados e analisar somente essa região ou conjunto de regiões em específico. Classifico como \"pobre\" a região ou conjunto de regiões que possui a menor renda per capita média por domicílio."
   ]
  },
  {
   "cell_type": "code",
   "execution_count": 68,
   "metadata": {},
   "outputs": [
    {
     "name": "stderr",
     "output_type": "stream",
     "text": [
      "C:\\Users\\taina\\Anaconda3\\lib\\site-packages\\ipykernel_launcher.py:8: UserWarning: Boolean Series key will be reindexed to match DataFrame index.\n",
      "  \n",
      "C:\\Users\\taina\\Anaconda3\\lib\\site-packages\\ipykernel_launcher.py:9: UserWarning: Boolean Series key will be reindexed to match DataFrame index.\n",
      "  if __name__ == '__main__':\n",
      "C:\\Users\\taina\\Anaconda3\\lib\\site-packages\\ipykernel_launcher.py:10: UserWarning: Boolean Series key will be reindexed to match DataFrame index.\n",
      "  # Remove the CWD from sys.path while we load stuff.\n",
      "C:\\Users\\taina\\Anaconda3\\lib\\site-packages\\ipykernel_launcher.py:11: UserWarning: Boolean Series key will be reindexed to match DataFrame index.\n",
      "  # This is added back by InteractiveShellApp.init_path()\n",
      "C:\\Users\\taina\\Anaconda3\\lib\\site-packages\\ipykernel_launcher.py:12: UserWarning: Boolean Series key will be reindexed to match DataFrame index.\n",
      "  if sys.path[0] == '':\n",
      "C:\\Users\\taina\\Anaconda3\\lib\\site-packages\\ipykernel_launcher.py:13: UserWarning: Boolean Series key will be reindexed to match DataFrame index.\n",
      "  del sys.path[0]\n",
      "C:\\Users\\taina\\Anaconda3\\lib\\site-packages\\ipykernel_launcher.py:14: UserWarning: Boolean Series key will be reindexed to match DataFrame index.\n",
      "  \n",
      "C:\\Users\\taina\\Anaconda3\\lib\\site-packages\\ipykernel_launcher.py:15: UserWarning: Boolean Series key will be reindexed to match DataFrame index.\n",
      "  from ipykernel import kernelapp as app\n"
     ]
    },
    {
     "name": "stdout",
     "output_type": "stream",
     "text": [
      "count    115021.000000\n",
      "mean       1225.589292\n",
      "std        2153.332121\n",
      "min           0.000000\n",
      "25%         406.000000\n",
      "50%         724.000000\n",
      "75%        1300.000000\n",
      "max      331200.000000\n",
      "Name: Renda, dtype: float64\n",
      "A média de rendimento per capita por domicílio, olhando o Brasil como um todo, é de \n",
      "\n",
      "R$ 722.93 \n",
      "\n",
      "count    41926.000000\n",
      "mean       520.798025\n",
      "std        317.677946\n",
      "min          0.000000\n",
      "25%        266.000000\n",
      "50%        466.000000\n",
      "75%        724.000000\n",
      "max       1409.000000\n",
      "Name: Renda, dtype: float64\n",
      "A média de rendimento per capita por domicílio nas regiões Norte e Nordeste é de \n",
      "\n",
      "R$ 520.80 \n",
      "\n",
      "count    10621.000000\n",
      "mean       866.927785\n",
      "std        496.573728\n",
      "min          0.000000\n",
      "25%        491.000000\n",
      "50%        742.000000\n",
      "75%       1166.000000\n",
      "max       2284.000000\n",
      "Name: Renda, dtype: float64\n",
      "A média de rendimento per capita por domicílio na região Centro-Oeste é de \n",
      "\n",
      "R$ 866.93 \n",
      "\n",
      "count    46390.000000\n",
      "mean       898.599784\n",
      "std        507.160180\n",
      "min          0.000000\n",
      "25%        500.000000\n",
      "50%        787.000000\n",
      "75%       1208.000000\n",
      "max       2287.000000\n",
      "Name: Renda, dtype: float64\n",
      "A média de rendimento per capita por domicílio nas regiões Sul e Sudeste é de \n",
      "\n",
      "R$ 898.60 \n",
      "\n"
     ]
    },
    {
     "data": {
      "image/png": "[encoded data removed]",
      "text/plain": [
       "<matplotlib.figure.Figure at 0x16b9d9346a0>"
      ]
     },
     "metadata": {},
     "output_type": "display_data"
    },
    {
     "data": {
      "image/png": "[encoded data removed]",
      "text/plain": [
       "<matplotlib.figure.Figure at 0x16b9a365a20>"
      ]
     },
     "metadata": {},
     "output_type": "display_data"
    }
   ],
   "source": [
    "renda = pd.DataFrame({'UF': data.UF,\n",
    "                      'Renda':data.V4621})\n",
    "\n",
    "\n",
    "\n",
    "\n",
    "renda = renda.dropna()\n",
    "renda = renda[(data.V4622>=0) & (data.V4622<=7)]\n",
    "renda_brasil = renda[(data.V4621<1955)]\n",
    "renda_norte_nordeste = renda[(data.UF>=11) & (data.UF<=29)]\n",
    "renda_norte_nordeste = renda_norte_nordeste[(data.V4621<1410)]\n",
    "renda_sul_sudeste = renda[(data.UF>=31) & (data.UF<=43)]\n",
    "renda_sul_sudeste = renda_sul_sudeste[(data.V4621<2290)]\n",
    "renda_centro_oeste = renda[(data.UF>=50) & (data.UF<=53)]\n",
    "renda_centro_oeste = renda_centro_oeste[(data.V4621<2290)]\n",
    "renda.UF = renda.UF.astype('category')\n",
    "renda.UF.cat.categories = (['RO', 'AC', 'AM', 'RR', 'PA', 'AP', 'Tocantins', 'Maranhão', 'Piauí', 'Ceará', 'Rio Grande do Norte', 'Paraíba', 'Pernambuco', 'Alagoas', 'Sergipe', 'Bahia', 'Minas Gerais', 'Espírito Santo', 'Rio de Janeiro', 'São Paulo', 'Paraná', 'Santa Catarina', 'Rio Grande do Sul', 'Mato Grosso do Sul', 'Mato Grosso', 'Goiás', 'Distrito Federal'])\n",
    "\n",
    "\n",
    "ax = sns.FacetGrid(renda, size=15, aspect=.5)\n",
    "ax = sns.boxplot(x='UF', y='Renda', data=renda)\n",
    "\n",
    "\n",
    "analise_brasil = renda['Renda'].describe()\n",
    "mais_frequente_brasil = renda.mode()\n",
    "variancia_brasil = renda.var()\n",
    "analise_norte_nordeste = renda_norte_nordeste['Renda'].describe()\n",
    "mais_frequente_norte_nordeste = renda_norte_nordeste.mode()\n",
    "variancia_norte_nordeste = renda_norte_nordeste.var()\n",
    "analise_centro_oeste = renda_centro_oeste['Renda'].describe()\n",
    "mais_frequente_centro_oeste = renda_centro_oeste.mode()\n",
    "variancia_centro_oeste = renda_centro_oeste.var()\n",
    "analise_sul_sudeste = renda_sul_sudeste['Renda'].describe()\n",
    "mais_frequente_sul_sudeste = renda_sul_sudeste.mode()\n",
    "variancia_sul_sudeste = renda_norte_nordeste.var()\n",
    "\n",
    "\n",
    "\n",
    "print(analise_brasil)\n",
    "print(\"A média de rendimento per capita por domicílio, olhando o Brasil como um todo, é de \\n\")\n",
    "print(\"R$ %.2f \\n\" %(renda_brasil['Renda'].mean()))\n",
    "print(analise_norte_nordeste)\n",
    "print(\"A média de rendimento per capita por domicílio nas regiões Norte e Nordeste é de \\n\")\n",
    "print(\"R$ %.2f \\n\" %(renda_norte_nordeste['Renda'].mean()))\n",
    "print(analise_centro_oeste)\n",
    "print(\"A média de rendimento per capita por domicílio na região Centro-Oeste é de \\n\")\n",
    "print(\"R$ %.2f \\n\" %(renda_centro_oeste['Renda'].mean()))\n",
    "print(analise_sul_sudeste)\n",
    "print(\"A média de rendimento per capita por domicílio nas regiões Sul e Sudeste é de \\n\")\n",
    "print(\"R$ %.2f \\n\" %(renda_sul_sudeste['Renda'].mean()))\n",
    "\n",
    "\n",
    "\n",
    "#print(renda.quantile(np.arange(0,1.10,.10)))\n",
    "\n",
    "\n",
    "#print(renda_centro_oeste['Renda'].mean())\n",
    "\n",
    "\n",
    "fig, axes = plt.subplots(nrows=1, ncols=3)\n",
    "\n",
    "#renda_brasil['Renda'].plot(kind='box', figsize=(5,5), ax=axes[0,0]); axes[0,0].set_title('A');\n",
    "\n",
    "renda_norte_nordeste['Renda'].plot(kind='box', figsize=(13,13),ax=axes[0]).set_title('Renda Mensal Per Capita - Norte e Nordeste');\n",
    "\n",
    "renda_centro_oeste['Renda'].plot(kind='box', figsize=(13,13),ax=axes[1]).set_title('Renda Mensal Per Capita - Centro-Oeste');\n",
    "\n",
    "renda_sul_sudeste['Renda'].plot(kind='box', figsize=(13,13),ax=axes[2]).set_title('Renda Mensal Per Capita - Sul e Sudeste');\n",
    "\n",
    "\n",
    "#plt.ylabel('Densidade')\n",
    "\n",
    "#plt.figure();\n",
    "\n",
    "#renda.plot.hist(alpha=1)\n",
    "\n",
    "\n",
    "#plot = renda.plot(kind='box',title='Renda',figsize=(10,10)).grid()\n",
    "#plot = plt.subplot(1,2,1)\n"
   ]
  },
  {
   "cell_type": "markdown",
   "metadata": {},
   "source": [
    "Ao observar os gráficos gerados, é notável a grande disparidade social existente no Brasil, não somente entre regiões, como também internamente em cada um dos estados...\n",
    "\n"
   ]
  },
  {
   "cell_type": "markdown",
   "metadata": {},
   "source": [
    "Comprovada a condição de que as regiões Norte e Nordeste são as mais pobres do Brasil, filtro os meus dados de modo a analisar a questão da desinformação somente nessa região."
   ]
  },
  {
   "cell_type": "code",
   "execution_count": 52,
   "metadata": {},
   "outputs": [
    {
     "name": "stderr",
     "output_type": "stream",
     "text": [
      "C:\\Users\\taina\\Anaconda3\\lib\\site-packages\\ipykernel_launcher.py:9: UserWarning: Boolean Series key will be reindexed to match DataFrame index.\n",
      "  if __name__ == '__main__':\n"
     ]
    }
   ],
   "source": [
    "df = pd.DataFrame({'Baixa_Renda': data.V4622,\n",
    "                   'Radio': data.V0225,\n",
    "                   'TV_cores': data.V0226,\n",
    "                   'Internet': data.V02322,\n",
    "                   'Info_Cad_Único' : data.V33001,\n",
    "                   'Prog_Sociais' : data.V33002})\n",
    "\n",
    "df = df[(data.V4622==0) | (data.V4622==1) | (data.V4622==2)]\n",
    "df = df[(data.UF>=11) & (data.UF<=29)]\n",
    "\n",
    "df = df.dropna()\n",
    "df.Info_Cad_Único = df.Info_Cad_Único.astype('category')\n",
    "df.Info_Cad_Único.cat.categories = (['Não'])\n",
    "df.Internet = df.Internet.astype('category')\n",
    "df.Internet.cat.categories = (['Sim', 'Não'])\n",
    "df.Prog_Sociais = df.Prog_Sociais.astype('category')\n",
    "df.Prog_Sociais.cat.categories = (['Sim','Não'])\n",
    "df.Radio = df.Radio.astype('category')\n",
    "df.Radio.cat.categories = (['Sim','Não'])\n",
    "df.TV_cores = df.TV_cores.astype('category')\n",
    "df.TV_cores.cat.categories = (['Sim','Não'])\n"
   ]
  },
  {
   "cell_type": "code",
   "execution_count": 59,
   "metadata": {},
   "outputs": [
    {
     "name": "stdout",
     "output_type": "stream",
     "text": [
      "Frequências absolutas (Conhecimento acerca dos Programas Sociais mantidos pelo governo:\n",
      "Sim    5389\n",
      "Não     536\n",
      "Name: Prog_Sociais, dtype: int64 \n",
      "\n",
      "Frequências absolutas (Conhecimento acerca do Cadastro Único de Programas Sociais do Governo Federal:\n",
      "Sim       NaN\n",
      "Não    5925.0\n",
      "Name: Info_Cad_Único, dtype: float64 \n",
      "\n",
      "Frequências absolutas (Pessoas que possuem acesso à Internet no próprio domicílio:\n",
      "Sim    1843\n",
      "Não    4082\n",
      "Name: Internet, dtype: int64 \n",
      "\n",
      "Frequências absolutas (Pessoas que possuem TV em cores:)\n",
      "Sim    5562\n",
      "Não     363\n",
      "Name: TV_cores, dtype: int64 \n",
      "\n",
      "Frequências absolutas (Pessoas que possuem rádio:)\n",
      "Sim    3528\n",
      "Não    2397\n",
      "Name: Radio, dtype: int64 \n",
      "\n"
     ]
    }
   ],
   "source": [
    "abs_freq_prog_sociais = df.Prog_Sociais.value_counts().reindex(['Sim', 'Não'])\n",
    "print('Frequências absolutas (Conhecimento acerca dos Programas Sociais mantidos pelo governo:')\n",
    "print(abs_freq_prog_sociais,'\\n')\n",
    "\n",
    "abs_freq_cad_unico = df.Info_Cad_Único.value_counts().reindex(['Sim', 'Não'])\n",
    "print('Frequências absolutas (Conhecimento acerca do Cadastro Único de Programas Sociais do Governo Federal:')\n",
    "print(abs_freq_cad_unico,'\\n')\n",
    "\n",
    "abs_freq_internet = df.Internet.value_counts().reindex(['Sim', 'Não'])\n",
    "print('Frequências absolutas (Pessoas que possuem acesso à Internet no próprio domicílio:')\n",
    "print(abs_freq_internet,'\\n')\n",
    "\n",
    "abs_freq_TV = df.TV_cores.value_counts().reindex(['Sim', 'Não'])\n",
    "print('Frequências absolutas (Pessoas que possuem TV em cores:)')\n",
    "print(abs_freq_TV,'\\n')\n",
    "\n",
    "abs_freq_radio = df.Radio.value_counts().reindex(['Sim', 'Não'])\n",
    "print('Frequências absolutas (Pessoas que possuem rádio:)')\n",
    "print(abs_freq_radio,'\\n')"
   ]
  },
  {
   "cell_type": "code",
   "execution_count": null,
   "metadata": {
    "collapsed": true
   },
   "outputs": [],
   "source": []
  },
  {
   "cell_type": "markdown",
   "metadata": {},
   "source": [
    "___\n",
    "## Conclusão "
   ]
  },
  {
   "cell_type": "markdown",
   "metadata": {
    "collapsed": true
   },
   "source": [
    "Descreva aqui suas conclusões!"
   ]
  },
  {
   "cell_type": "code",
   "execution_count": null,
   "metadata": {
    "collapsed": true
   },
   "outputs": [],
   "source": []
  }
 ],
 "metadata": {
  "anaconda-cloud": {},
  "kernelspec": {
   "display_name": "Python 3",
   "language": "python",
   "name": "python3"
  },
  "language_info": {
   "codemirror_mode": {
    "name": "ipython",
    "version": 3
   },
   "file_extension": ".py",
   "mimetype": "text/x-python",
   "name": "python",
   "nbconvert_exporter": "python",
   "pygments_lexer": "ipython3",
   "version": "3.6.1"
  }
 },
 "nbformat": 4,
 "nbformat_minor": 1
}
