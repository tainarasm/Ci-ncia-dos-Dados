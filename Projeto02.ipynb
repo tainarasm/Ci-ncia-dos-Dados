{
 "cells": [
  {
   "cell_type": "markdown",
   "metadata": {},
   "source": [
    "# Projeto 2 - Classificador Automático de Sentimento\n",
    "\n",
    "Você foi contratado por uma empresa parar analisar como os clientes estão reagindo a um determinado produto no Twitter. A empresa deseja que você crie um programa que irá analisar as mensagens disponíveis e classificará como \"relevante\" ou \"irrelevante\". Com isso ela deseja que mensagens negativas, que denigrem o nome do produto, ou que mereçam destaque, disparem um foco de atenção da área de marketing.<br /><br />\n",
    "Como aluno de Ciência dos Dados, você lembrou do Teorema de Bayes, mais especificamente do Classificador Naive-Bayes, que é largamente utilizado em filtros anti-spam de e-mails. O classificador permite calcular qual a probabilidade de uma mensagem ser relevante dadas as palavras em seu conteúdo.<br /><br />\n",
    "Para realizar o MVP (*minimum viable product*) do projeto, você precisa implementar uma versão do classificador que \"aprende\" o que é relevante com uma base de treinamento e compara a performance dos resultados com uma base de testes.<br /><br />\n",
    "Após validado, o seu protótipo poderá também capturar e classificar automaticamente as mensagens da plataforma.\n",
    "\n",
    "## Informações do Projeto\n",
    "\n",
    "Prazo: 13/Set até às 23:59.<br />\n",
    "Grupo: 1 ou 2 pessoas.<br /><br />\n",
    "Entregáveis via GitHub: \n",
    "* Arquivo notebook com o código do classificador, seguindo as orientações abaixo.\n",
    "* Arquivo Excel com as bases de treinamento e teste totalmente classificado.\n",
    "\n",
    "**NÃO disponibilizar o arquivo com os *access keys/tokens* do Twitter.**\n",
    "\n",
    "\n",
    "### Check 3: \n",
    "\n",
    "Até o dia 06 de Setembro às 23:59, o notebook e o xlsx devem estar no Github com as seguintes evidências: \n",
    "    * Conta no twitter criada.\n",
    "    * Produto escolhido.\n",
    "    * Arquivo Excel contendo a base de treinamento e teste já classificado.\n",
    "\n",
    "Sugestão de leitura:<br />\n",
    "http://docs.tweepy.org/en/v3.5.0/index.html<br />\n",
    "https://monkeylearn.com/blog/practical-explanation-naive-bayes-classifier/"
   ]
  },
  {
   "cell_type": "markdown",
   "metadata": {},
   "source": [
    "___\n",
    "\n",
    "## Preparando o ambiente\n",
    "\n",
    "Instalando a biblioteca *tweepy* para realizar a conexão com o Twitter:"
   ]
  },
  {
   "cell_type": "code",
   "execution_count": 1,
   "metadata": {
    "collapsed": true
   },
   "outputs": [],
   "source": [
    "%%capture\n",
    "\n",
    "#Instalando o tweepy\n",
    "!pip install tweepy\n",
    "\n",
    "!pip install sklearn-pandas"
   ]
  },
  {
   "cell_type": "markdown",
   "metadata": {},
   "source": [
    "Importando as Bibliotecas que serão utilizadas. Esteja livre para adicionar outras."
   ]
  },
  {
   "cell_type": "code",
   "execution_count": 2,
   "metadata": {
    "collapsed": true
   },
   "outputs": [],
   "source": [
    "import tweepy\n",
    "import math\n",
    "import os.path\n",
    "import pandas as pd\n",
    "import json\n",
    "from random import shuffle\n",
    "import numpy as np\n",
    "import nltk\n",
    "nltk.download()\n",
    "from nltk.corpus import stopwords\n",
    "from nltk.tokenize import word_tokenize\n",
    "import re\n",
    "import string\n",
    "from sklearn.feature_extraction.text import CountVectorizer\n",
    "from sklearn.feature_extraction.text import TfidfTransformer\n",
    "from sklearn.naive_bayes import MultinomialNB\n",
    "from sklearn.model_selection import cross_val_predict\n",
    "from sklearn import metrics\n"
   ]
  },
  {
   "cell_type": "markdown",
   "metadata": {},
   "source": [
    "___\n",
    "## Autenticando no  Twitter\n",
    "\n",
    "Para realizar a captura dos dados é necessário ter uma conta cadastrada no twitter:\n",
    "\n",
    "* Conta: ***@tainarasm98***\n",
    "\n",
    "\n",
    "1. Caso ainda não tenha uma: https://twitter.com/signup\n",
    "1. Depois é necessário registrar um app para usar a biblioteca: https://apps.twitter.com/\n",
    "1. Dentro do registro do App, na aba Keys and Access Tokens, anotar os seguintes campos:\n",
    "    1. Consumer Key (API Key)\n",
    "    1. Consumer Secret (API Secret)\n",
    "1. Mais abaixo, gere um Token e anote também:\n",
    "    1. Access Token\n",
    "    1. Access Token Secret\n",
    "    \n",
    "1. Preencha os valores no arquivo \"auth.pass\"\n",
    "\n",
    "**ATENÇÃO**: Nunca divulgue os dados desse arquivo online (GitHub, etc). Ele contém as chaves necessárias para realizar as operações no twitter de forma automática e portanto é equivalente a ser \"hackeado\". De posse desses dados, pessoas mal intencionadas podem fazer todas as operações manuais (tweetar, seguir, bloquear/desbloquear, listar os seguidores, etc). Para efeito do projeto, esse arquivo não precisa ser entregue!!!"
   ]
  },
  {
   "cell_type": "code",
   "execution_count": 3,
   "metadata": {
    "collapsed": true
   },
   "outputs": [],
   "source": [
    "#Dados de autenticação do twitter:\n",
    "\n",
    "#Coloque aqui o identificador da conta no twitter: @tainarasm98\n",
    "\n",
    "#leitura do arquivo no formato JSON\n",
    "with open('auth.pass') as fp:    \n",
    "    data = json.load(fp)\n",
    "\n",
    "#Configurando a biblioteca. Não modificar\n",
    "auth = tweepy.OAuthHandler(data['consumer_key'], data['consumer_secret'])\n",
    "auth.set_access_token(data['access_token'], data['access_token_secret'])"
   ]
  },
  {
   "cell_type": "markdown",
   "metadata": {},
   "source": [
    "___\n",
    "## Coletando Dados\n",
    "\n",
    "Agora vamos coletar os dados. Tenha em mente que dependendo do produto escolhido, não haverá uma quantidade significativa de mensagens, ou ainda poder haver muitos retweets.<br /><br /> \n",
    "Configurando:"
   ]
  },
  {
   "cell_type": "code",
   "execution_count": 4,
   "metadata": {
    "collapsed": true
   },
   "outputs": [],
   "source": [
    "#Produto escolhido:\n",
    "produto = \"Ruffles\"\n",
    "\n",
    "#Quantidade mínima de mensagens capturadas:\n",
    "n = 500\n",
    "#Quantidade mínima de mensagens para a base de treinamento:\n",
    "t = 300\n",
    "\n",
    "#Filtro de língua, escolha uma na tabela ISO 639-1.\n",
    "lang = 'pt'"
   ]
  },
  {
   "cell_type": "markdown",
   "metadata": {},
   "source": [
    "Capturando os dados do twitter:"
   ]
  },
  {
   "cell_type": "code",
   "execution_count": 5,
   "metadata": {
    "collapsed": true
   },
   "outputs": [],
   "source": [
    "#Cria um objeto para a captura\n",
    "api = tweepy.API(auth)\n",
    "\n",
    "#Inicia a captura, para mais detalhes: ver a documentação do tweepy\n",
    "i = 1\n",
    "msgs = []\n",
    "for msg in tweepy.Cursor(api.search, q=produto, lang=lang).items():    \n",
    "    msgs.append(msg.text.lower())\n",
    "    i += 1\n",
    "    if i > n:\n",
    "        break\n",
    "\n",
    "#Embaralhando as mensagens para reduzir um possível viés\n",
    "shuffle(msgs)"
   ]
  },
  {
   "cell_type": "markdown",
   "metadata": {},
   "source": [
    "Salvando os dados em uma planilha Excel:"
   ]
  },
  {
   "cell_type": "code",
   "execution_count": 6,
   "metadata": {
    "collapsed": true
   },
   "outputs": [],
   "source": [
    "#Verifica se o arquivo não existe para não substituir um conjunto pronto\n",
    "if not os.path.isfile('./{0}.xlsx'.format(produto)):\n",
    "    \n",
    "    #Abre o arquivo para escrita\n",
    "    writer = pd.ExcelWriter('{0}.xlsx'.format(produto))\n",
    "    \n",
    "    #divide o conjunto de mensagens em duas planilhas\n",
    "    dft = pd.DataFrame({'Treinamento' : pd.Series(msgs[:t])})\n",
    "    dft.to_excel(excel_writer = writer, sheet_name = 'Treinamento', index = False)\n",
    "\n",
    "    dfc = pd.DataFrame({'Teste' : pd.Series(msgs[t:])})\n",
    "    dfc.to_excel(excel_writer = writer, sheet_name = 'Teste', index = False)\n",
    "\n",
    "    #fecha o arquivo\n",
    "    writer.save()"
   ]
  },
  {
   "cell_type": "markdown",
   "metadata": {},
   "source": [
    "___\n",
    "## Classificando as Mensagens\n",
    "\n",
    "Agora você deve abrir o arquivo Excel com as mensagens capturadas e classificar na Coluna B se a mensagem é relevante ou não.<br /> \n",
    "Não se esqueça de colocar um nome para a coluna na célula **B1**.<br /><br />\n",
    "Fazer o mesmo na planilha de Controle.\n",
    "\n",
    "___\n",
    "## Montando o Classificador Naive-Bayes\n",
    "\n",
    "Com a base de treinamento montada, comece a desenvolver o classificador. Escreva o seu código abaixo:\n",
    "\n",
    "Opcionalmente: \n",
    "* Limpar as mensagens removendo os caracteres: enter, :, \", ', (, ), etc. Não remover emojis.<br />\n",
    "* Corrigir separação de espaços entre palavras e/ou emojis.\n",
    "* Propor outras limpezas/transformações que não afetem a qualidade da informação.\n",
    "\n"
   ]
  },
  {
   "cell_type": "code",
   "execution_count": 61,
   "metadata": {},
   "outputs": [
    {
     "name": "stdout",
     "output_type": "stream",
     "text": [
      "['Irrelevante' 'Irrelevante' 'Irrelevante' 'Irrelevante' 'Irrelevante'\n",
      " 'Irrelevante' 'Irrelevante' 'Irrelevante' 'Irrelevante' 'Irrelevante'\n",
      " 'Irrelevante' 'Irrelevante' 'Irrelevante' 'Irrelevante' 'Irrelevante'\n",
      " 'Irrelevante' 'Irrelevante' 'Irrelevante' 'Irrelevante' 'Irrelevante'\n",
      " 'Irrelevante' 'Irrelevante' 'Irrelevante' 'Irrelevante' 'Irrelevante'\n",
      " 'Irrelevante' 'Irrelevante' 'Irrelevante' 'Irrelevante' 'Irrelevante'\n",
      " 'Irrelevante' 'Irrelevante' 'Irrelevante' 'Irrelevante' 'Irrelevante'\n",
      " 'Irrelevante' 'Irrelevante' 'Irrelevante' 'Irrelevante' 'Irrelevante'\n",
      " 'Irrelevante' 'Irrelevante' 'Irrelevante' 'Irrelevante' 'Irrelevante'\n",
      " 'Irrelevante' 'Irrelevante' 'Irrelevante' 'Irrelevante' 'Irrelevante'\n",
      " 'Irrelevante' 'Irrelevante' 'Irrelevante' 'Irrelevante' 'Irrelevante'\n",
      " 'Irrelevante' 'Irrelevante' 'Irrelevante' 'Irrelevante' 'Irrelevante'\n",
      " 'Irrelevante' 'Irrelevante' 'Irrelevante' 'Irrelevante' 'Irrelevante'\n",
      " 'Irrelevante' 'Irrelevante' 'Irrelevante' 'Irrelevante' 'Irrelevante'\n",
      " 'Irrelevante' 'Irrelevante' 'Irrelevante' 'Irrelevante' 'Irrelevante'\n",
      " 'Irrelevante' 'Irrelevante' 'Irrelevante' 'Irrelevante' 'Irrelevante'\n",
      " 'Irrelevante' 'Irrelevante' 'Irrelevante' 'Irrelevante' 'Irrelevante'\n",
      " 'Irrelevante' 'Irrelevante' 'Irrelevante' 'Irrelevante' 'Irrelevante'\n",
      " 'Irrelevante' 'Irrelevante' 'Irrelevante' 'Irrelevante' 'Irrelevante'\n",
      " 'Irrelevante' 'Irrelevante' 'Irrelevante' 'Irrelevante' 'Irrelevante'\n",
      " 'Irrelevante' 'Irrelevante' 'Irrelevante' 'Irrelevante' 'Irrelevante'\n",
      " 'Irrelevante' 'Irrelevante' 'Irrelevante' 'Irrelevante' 'Irrelevante'\n",
      " 'Irrelevante' 'Irrelevante' 'Irrelevante' 'Irrelevante' 'Irrelevante'\n",
      " 'Irrelevante' 'Irrelevante' 'Irrelevante' 'Irrelevante' 'Irrelevante'\n",
      " 'Irrelevante' 'Irrelevante' 'Irrelevante' 'Irrelevante' 'Irrelevante'\n",
      " 'Irrelevante' 'Irrelevante' 'Irrelevante' 'Irrelevante' 'Irrelevante'\n",
      " 'Irrelevante' 'Irrelevante' 'Irrelevante' 'Irrelevante' 'Irrelevante'\n",
      " 'Irrelevante' 'Irrelevante' 'Irrelevante' 'Irrelevante' 'Irrelevante'\n",
      " 'Irrelevante' 'Irrelevante' 'Irrelevante' 'Irrelevante' 'Irrelevante'\n",
      " 'Irrelevante' 'Irrelevante' 'Irrelevante' 'Irrelevante' 'Irrelevante'\n",
      " 'Irrelevante' 'Irrelevante' 'Irrelevante' 'Irrelevante' 'Irrelevante'\n",
      " 'Irrelevante' 'Irrelevante' 'Irrelevante' 'Irrelevante' 'Irrelevante'\n",
      " 'Irrelevante' 'Irrelevante' 'Irrelevante' 'Irrelevante' 'Irrelevante'\n",
      " 'Irrelevante' 'Irrelevante' 'Irrelevante' 'Irrelevante' 'Irrelevante'\n",
      " 'Irrelevante' 'Irrelevante' 'Irrelevante' 'Irrelevante' 'Irrelevante'\n",
      " 'Irrelevante' 'Irrelevante' 'Irrelevante' 'Irrelevante' 'Irrelevante'\n",
      " 'Irrelevante' 'Irrelevante' 'Irrelevante' 'Irrelevante' 'Irrelevante'\n",
      " 'Irrelevante' 'Irrelevante' 'Irrelevante' 'Irrelevante' 'Irrelevante'\n",
      " 'Irrelevante' 'Irrelevante' 'Irrelevante' 'Irrelevante' 'Irrelevante'\n",
      " 'Irrelevante' 'Irrelevante' 'Irrelevante' 'Irrelevante' 'Irrelevante']\n",
      "0.676666666667\n",
      "             precision    recall  f1-score   support\n",
      "\n",
      "  Relevante       0.30      0.62      0.40        53\n",
      "Irrelevante       0.89      0.69      0.78       247\n",
      "\n",
      "avg / total       0.79      0.68      0.71       300\n",
      "\n"
     ]
    },
    {
     "data": {
      "text/html": [
       "<div>\n",
       "<style>\n",
       "    .dataframe thead tr:only-child th {\n",
       "        text-align: right;\n",
       "    }\n",
       "\n",
       "    .dataframe thead th {\n",
       "        text-align: left;\n",
       "    }\n",
       "\n",
       "    .dataframe tbody tr th {\n",
       "        vertical-align: top;\n",
       "    }\n",
       "</style>\n",
       "<table border=\"1\" class=\"dataframe\">\n",
       "  <thead>\n",
       "    <tr style=\"text-align: right;\">\n",
       "      <th>Predito</th>\n",
       "      <th>Irrelevante</th>\n",
       "      <th>Relevante</th>\n",
       "      <th>All</th>\n",
       "    </tr>\n",
       "    <tr>\n",
       "      <th>Real</th>\n",
       "      <th></th>\n",
       "      <th></th>\n",
       "      <th></th>\n",
       "    </tr>\n",
       "  </thead>\n",
       "  <tbody>\n",
       "    <tr>\n",
       "      <th>Irrelevante</th>\n",
       "      <td>170</td>\n",
       "      <td>77</td>\n",
       "      <td>247</td>\n",
       "    </tr>\n",
       "    <tr>\n",
       "      <th>Relevante</th>\n",
       "      <td>20</td>\n",
       "      <td>33</td>\n",
       "      <td>53</td>\n",
       "    </tr>\n",
       "    <tr>\n",
       "      <th>All</th>\n",
       "      <td>190</td>\n",
       "      <td>110</td>\n",
       "      <td>300</td>\n",
       "    </tr>\n",
       "  </tbody>\n",
       "</table>\n",
       "</div>"
      ],
      "text/plain": [
       "Predito      Irrelevante  Relevante  All\n",
       "Real                                    \n",
       "Irrelevante          170         77  247\n",
       "Relevante             20         33   53\n",
       "All                  190        110  300"
      ]
     },
     "execution_count": 61,
     "metadata": {},
     "output_type": "execute_result"
    }
   ],
   "source": [
    "xls_file = pd.ExcelFile('Ruffles.xlsx')\n",
    "\n",
    "df = xls_file.parse('Treinamento')\n",
    "df2 = xls_file.parse('Teste')\n",
    "\n",
    "\n",
    "treinamento = pd.DataFrame({'Treinamento': df['Treinamento']})\n",
    "classificacao = pd.DataFrame({'Classificação': df['Classificação']})\n",
    "teste = pd.DataFrame({'Teste': df2['Teste']})\n",
    "                            \n",
    "treinamento['Tokenized_treinamento'] = treinamento.apply(lambda row: nltk.word_tokenize(row['Treinamento']), axis=1)\n",
    "\n",
    "\n",
    "stop = stopwords.words('portuguese')\n",
    "\n",
    "#treinamento = \" \".join(re.findall('[A-Z][^A-Z]*', treinamento)) - importante vooos\n",
    "\n",
    "regex = re.compile('[%s]' % re.escape(string.punctuation))\n",
    "\n",
    "tokenized_treinamento_sem_pontuacao = []\n",
    "\n",
    "for review in treinamento['Tokenized_treinamento']:\n",
    "    new_review = []\n",
    "    for token in review: \n",
    "        new_token = regex.sub(u'', token)\n",
    "        if not new_token == u'':\n",
    "            new_review.append(new_token)\n",
    "\n",
    "    tokenized_treinamento_sem_pontuacao.append(new_review)\n",
    "    \n",
    "\n",
    "tokenized_treinamento_sem_stopwords = []\n",
    "for frase in tokenized_treinamento_sem_pontuacao:\n",
    "    new_term_vector = []\n",
    "    for palavra in frase:\n",
    "        if not palavra in stopwords.words('portuguese'):\n",
    "            new_term_vector.append(palavra)\n",
    "    tokenized_treinamento_sem_stopwords.append(new_term_vector)\n",
    "\n",
    "    \n",
    "treinamento['Tokenized_treinamento'] = tokenized_treinamento_sem_stopwords\n",
    "\n",
    "\n",
    "\n",
    "#\"\".join(treinamento['Tokenized_treinamento'])\n",
    "\n",
    "#d = MosesDetokenizer()\n",
    "#detokens = d.detokenize(tokenized_treinamento_sem_stopwords)\n",
    "#detokens = \"\".join(detokens)\n",
    "\n",
    "\n",
    "vectorizer = CountVectorizer(analyzer='word', tokenizer=lambda doc: doc, lowercase=False)\n",
    "freq_tweets = vectorizer.fit_transform(treinamento['Tokenized_treinamento'])\n",
    "\n",
    "#freq_tweets = CountVectorizer(tokenizer=lambda doc: doc, lowercase=False).fit_transform(treinamento['Tokenized_treinamento'])\n",
    "freq_tweets.toarray()\n",
    "modelo = MultinomialNB(alpha=1)\n",
    "modelo.fit(freq_tweets,classificacao['Classificação'])\n",
    "\n",
    "\n",
    "freq_testes = vectorizer.transform(teste['Teste'])\n",
    "print(modelo.predict(freq_testes))\n",
    "\n",
    "\n",
    "resultados = cross_val_predict(modelo, freq_tweets, classificacao['Classificação'], cv=10)\n",
    "print(metrics.accuracy_score(classificacao['Classificação'],resultados))\n",
    "\n",
    "sentimento=['Relevante','Irrelevante']\n",
    "print(metrics.classification_report(classificacao['Classificação'],resultados,sentimento))\n",
    "\n",
    "pd.crosstab(classificacao['Classificação'], resultados, rownames=['Real'], colnames=['Predito'], margins=True)\n"
   ]
  },
  {
   "cell_type": "code",
   "execution_count": 65,
   "metadata": {},
   "outputs": [
    {
     "data": {
      "text/plain": [
       "Irrelevante    161\n",
       "Relevante       39\n",
       "Name: Classificação, dtype: int64"
      ]
     },
     "execution_count": 65,
     "metadata": {},
     "output_type": "execute_result"
    }
   ],
   "source": [
    "xls_file = pd.ExcelFile('Ruffles.xlsx')\n",
    "\n",
    "df = xls_file.parse('Treinamento')\n",
    "df2 = xls_file.parse('Teste')\n",
    "\n",
    "treinamento = pd.DataFrame({'Treinamento': df['Treinamento'],\n",
    "                            'Classificação': df['Classificação']})\n",
    "                            \n",
    "treinamento['Tokenized_treinamento'] = treinamento.apply(lambda row: nltk.word_tokenize(row['Treinamento']), axis=1)\n",
    "\n",
    "relevante = treinamento[(treinamento.Classificação == 'Relevante')]\n",
    "irrelevante = treinamento[(treinamento.Classificação ==  'Irrelevante')]\n",
    "\n",
    "\n",
    "\n",
    "all_words = []\n",
    "all_words2 = []\n",
    "frequencia = {}\n",
    "frequencia2 = {}\n",
    "prob_palavra_relevante = {}\n",
    "prob_palavra_irrelevante = {}\n",
    "\n",
    "\n",
    "for percorre_tweets in relevante['Tokenized_treinamento']:\n",
    "    all_words.extend(percorre_tweets)\n",
    "\n",
    "for percorre_tweets in irrelevante['Tokenized_treinamento']:\n",
    "    all_words2.extend(percorre_tweets)\n",
    "\n",
    "for i in all_words:\n",
    "    frequencia[i] = all_words.count(i)\n",
    "\n",
    "for i in all_words2:\n",
    "    frequencia2[i] = all_words2.count(i)   \n",
    "\n",
    "for j in frequencia:\n",
    "    prob_palavra_relevante[j] = ((frequencia[j]+1)/(len(all_words) + (len(frequencia)+len(frequencia2))))\n",
    "\n",
    "for j in frequencia2:\n",
    "    prob_palavra_irrelevante[j] = ((frequencia2[j]+1)/(len(all_words) + (len(frequencia)+len(frequencia2))))\n",
    "\n",
    "prob_rel_irr = df.Classificação.value_counts(True)\n",
    "\n",
    "prob_teste = df2.Classificação.value_counts()\n",
    "\n",
    "prob_teste"
   ]
  },
  {
   "cell_type": "markdown",
   "metadata": {},
   "source": [
    "___\n",
    "## Verificando a performance\n",
    "\n",
    "Agora você deve testar o seu Classificador com a base de Testes.<br /><br /> \n",
    "\n",
    "Você deve extrair as seguintes medidas:\n",
    "* Porcentagem de positivos falsos (marcados como relevante mas não são relevantes)\n",
    "* Porcentagem de positivos verdadeiros (marcado como relevante e são relevantes)\n",
    "* Porcentagem de negativos verdadeiros (marcado como não relevante e não são relevantes)\n",
    "* Porcentagem de negativos falsos (marcado como não relevante e são relevantes)\n",
    "\n",
    "Opcionalmente:\n",
    "* Criar categorias intermediárias de relevância baseado na diferença de probabilidades. Exemplo: muito relevante, relevante, neutro, irrelevante e muito irrelevante."
   ]
  },
  {
   "cell_type": "code",
   "execution_count": 66,
   "metadata": {
    "scrolled": true
   },
   "outputs": [
    {
     "data": {
      "text/plain": [
       "161"
      ]
     },
     "execution_count": 66,
     "metadata": {},
     "output_type": "execute_result"
    }
   ],
   "source": [
    "teste = pd.DataFrame({'Teste': df2['Teste']})\n",
    "                            \n",
    "teste['Tokenized_teste'] = teste.apply(lambda row: nltk.word_tokenize(row['Teste']), axis=1)\n",
    "\n",
    "relevante_irrelevante = []\n",
    "\n",
    "tweets = []\n",
    "\n",
    "\n",
    "for tweet in teste['Tokenized_teste']:\n",
    "    tweets.append(tweet)\n",
    "\n",
    "        \n",
    "def multiply(numbers):  \n",
    "    total = 1\n",
    "    for x in numbers:\n",
    "        total *= x  \n",
    "    return total\n",
    "\n",
    "classificacao_teste = []\n",
    "diferenca_probabilidades = []\n",
    "\n",
    "for i in range(len(tweets)):\n",
    "    sentenca_relevante = []\n",
    "    sentenca_irrelevante = []\n",
    "    relevante = []\n",
    "    irrelevante = []\n",
    "    for j in tweets[i]:\n",
    "        if j in frequencia:\n",
    "            sentenca_relevante.append(((frequencia[j])/(len(all_words)))*prob_rel_irr['Relevante'])\n",
    "        if j not in frequencia:\n",
    "            sentenca_relevante.append((1/(len(all_words) + (len(frequencia)+len(frequencia2))))*prob_rel_irr['Relevante'])\n",
    "            \n",
    "        if j in frequencia2:\n",
    "            sentenca_irrelevante.append(((frequencia2[j])/(len(all_words2)))*prob_rel_irr['Irrelevante'])\n",
    "        if j not in frequencia2:\n",
    "            sentenca_irrelevante.append((1/(len(all_words2) + (len(frequencia)+len(frequencia2))))*prob_rel_irr['Irrelevante'])\n",
    "        \n",
    "    \n",
    "    relevante.append(multiply(sentenca_relevante))\n",
    "    irrelevante.append(multiply(sentenca_irrelevante))\n",
    "    \n",
    "    for l in range(len(relevante)):\n",
    "        if relevante[l]>irrelevante[l]:\n",
    "            classificacao_teste.append('Relevante')\n",
    "        else:\n",
    "            classificacao_teste.append('Irrelevante')\n",
    "            \n",
    "        \n",
    "    \n",
    "a = []\n",
    "\n",
    "    \n",
    "for i in range(len(df2.Classificação)):\n",
    "    if df2.Classificação[i]=='Irrelevante':\n",
    "        if classificacao_teste[i]=='Irrelevante':\n",
    "            a.append('oi')\n",
    "    \n",
    "   \n",
    "len(a)\n"
   ]
  },
  {
   "cell_type": "markdown",
   "metadata": {
    "collapsed": true
   },
   "source": [
    "___\n",
    "## Concluindo\n",
    "\n",
    "Escreva aqui a sua conclusão.<br /> \n",
    "Faça um comparativo qualitativo sobre as medidas obtidas.<br />\n",
    "Explique como são tratadas as mensagens com dupla negação e sarcasmo.<br />\n",
    "Proponha um plano de expansão. Por que eles devem continuar financiando o seu projeto?<br />\n",
    "\n",
    "Opcionalmente: \n",
    "* Discorrer por que não posso alimentar minha base de Treinamento automaticamente usando o próprio classificador, aplicado a novos tweets.\n",
    "* Propor diferentes cenários de uso para o classificador Naive-Bayes. Cenários sem intersecção com este projeto.\n",
    "* Sugerir e explicar melhorias reais no classificador com indicações concretas de como implementar (não é preciso codificar, mas indicar como fazer e material de pesquisa sobre o assunto).\n"
   ]
  },
  {
   "cell_type": "code",
   "execution_count": null,
   "metadata": {},
   "outputs": [],
   "source": []
  },
  {
   "cell_type": "code",
   "execution_count": null,
   "metadata": {
    "collapsed": true
   },
   "outputs": [],
   "source": []
  }
 ],
 "metadata": {
  "kernelspec": {
   "display_name": "Python 3",
   "language": "python",
   "name": "python3"
  },
  "language_info": {
   "codemirror_mode": {
    "name": "ipython",
    "version": 3
   },
   "file_extension": ".py",
   "mimetype": "text/x-python",
   "name": "python",
   "nbconvert_exporter": "python",
   "pygments_lexer": "ipython3",
   "version": "3.6.1"
  }
 },
 "nbformat": 4,
 "nbformat_minor": 1
}
